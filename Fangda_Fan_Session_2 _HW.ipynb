{
 "cells": [
  {
   "cell_type": "code",
   "execution_count": 1,
   "id": "dfe62e3f",
   "metadata": {},
   "outputs": [],
   "source": [
    "# Quesetion 6"
   ]
  },
  {
   "cell_type": "code",
   "execution_count": 9,
   "id": "ac1af718",
   "metadata": {},
   "outputs": [],
   "source": [
    "# (a)"
   ]
  },
  {
   "cell_type": "code",
   "execution_count": 3,
   "id": "884fbf31",
   "metadata": {},
   "outputs": [],
   "source": [
    "top = exp(-6+0.05*40+3.5)"
   ]
  },
  {
   "cell_type": "code",
   "execution_count": 4,
   "id": "bb1154f9",
   "metadata": {},
   "outputs": [],
   "source": [
    "bottom = 1 + top"
   ]
  },
  {
   "cell_type": "code",
   "execution_count": 5,
   "id": "c99351ae",
   "metadata": {},
   "outputs": [],
   "source": [
    "P = top / bottom"
   ]
  },
  {
   "cell_type": "code",
   "execution_count": 6,
   "id": "b8d54ae4",
   "metadata": {},
   "outputs": [
    {
     "name": "stdout",
     "output_type": "stream",
     "text": [
      "[1] 0.3775407\n"
     ]
    }
   ],
   "source": [
    "print(P)"
   ]
  },
  {
   "cell_type": "code",
   "execution_count": 10,
   "id": "3b64fd7c",
   "metadata": {},
   "outputs": [],
   "source": [
    "# (b)"
   ]
  },
  {
   "cell_type": "code",
   "execution_count": 7,
   "id": "ea8d2195",
   "metadata": {},
   "outputs": [
    {
     "data": {
      "text/html": [
       "0"
      ],
      "text/latex": [
       "0"
      ],
      "text/markdown": [
       "0"
      ],
      "text/plain": [
       "[1] 0"
      ]
     },
     "metadata": {},
     "output_type": "display_data"
    }
   ],
   "source": [
    "log(0.5/0.5)"
   ]
  },
  {
   "cell_type": "code",
   "execution_count": 8,
   "id": "ce1b4109",
   "metadata": {},
   "outputs": [
    {
     "data": {
      "text/html": [
       "50"
      ],
      "text/latex": [
       "50"
      ],
      "text/markdown": [
       "50"
      ],
      "text/plain": [
       "[1] 50"
      ]
     },
     "metadata": {},
     "output_type": "display_data"
    }
   ],
   "source": [
    "(6-3.5)/0.05 # X1 is 50 hours"
   ]
  },
  {
   "cell_type": "code",
   "execution_count": 11,
   "id": "526fb959",
   "metadata": {},
   "outputs": [],
   "source": [
    "# Question 8"
   ]
  },
  {
   "cell_type": "code",
   "execution_count": 12,
   "id": "f71366d4",
   "metadata": {},
   "outputs": [],
   "source": [
    "# We should prefer to use the K nearest neighbor method, as the error rate is lower."
   ]
  },
  {
   "cell_type": "code",
   "execution_count": 13,
   "id": "fde154b3",
   "metadata": {},
   "outputs": [],
   "source": [
    "# Question 9"
   ]
  },
  {
   "cell_type": "code",
   "execution_count": 14,
   "id": "092d34f0",
   "metadata": {},
   "outputs": [],
   "source": [
    "# (a) 37% of people "
   ]
  },
  {
   "cell_type": "code",
   "execution_count": 15,
   "id": "38505667",
   "metadata": {},
   "outputs": [],
   "source": [
    "# (b) 4 to 25 odds"
   ]
  },
  {
   "cell_type": "code",
   "execution_count": 16,
   "id": "10829212",
   "metadata": {},
   "outputs": [],
   "source": [
    "# Question 10"
   ]
  },
  {
   "cell_type": "code",
   "execution_count": 17,
   "id": "920eac03",
   "metadata": {},
   "outputs": [],
   "source": [
    "# (a)"
   ]
  },
  {
   "cell_type": "code",
   "execution_count": 18,
   "id": "b3e46d04",
   "metadata": {},
   "outputs": [],
   "source": [
    "library(ISLR)"
   ]
  },
  {
   "cell_type": "code",
   "execution_count": 19,
   "id": "f0a52059",
   "metadata": {},
   "outputs": [
    {
     "data": {
      "text/html": [
       "<ol class=list-inline>\n",
       "\t<li>'Year'</li>\n",
       "\t<li>'Lag1'</li>\n",
       "\t<li>'Lag2'</li>\n",
       "\t<li>'Lag3'</li>\n",
       "\t<li>'Lag4'</li>\n",
       "\t<li>'Lag5'</li>\n",
       "\t<li>'Volume'</li>\n",
       "\t<li>'Today'</li>\n",
       "\t<li>'Direction'</li>\n",
       "</ol>\n"
      ],
      "text/latex": [
       "\\begin{enumerate*}\n",
       "\\item 'Year'\n",
       "\\item 'Lag1'\n",
       "\\item 'Lag2'\n",
       "\\item 'Lag3'\n",
       "\\item 'Lag4'\n",
       "\\item 'Lag5'\n",
       "\\item 'Volume'\n",
       "\\item 'Today'\n",
       "\\item 'Direction'\n",
       "\\end{enumerate*}\n"
      ],
      "text/markdown": [
       "1. 'Year'\n",
       "2. 'Lag1'\n",
       "3. 'Lag2'\n",
       "4. 'Lag3'\n",
       "5. 'Lag4'\n",
       "6. 'Lag5'\n",
       "7. 'Volume'\n",
       "8. 'Today'\n",
       "9. 'Direction'\n",
       "\n",
       "\n"
      ],
      "text/plain": [
       "[1] \"Year\"      \"Lag1\"      \"Lag2\"      \"Lag3\"      \"Lag4\"      \"Lag5\"     \n",
       "[7] \"Volume\"    \"Today\"     \"Direction\""
      ]
     },
     "metadata": {},
     "output_type": "display_data"
    }
   ],
   "source": [
    "names(Weekly)"
   ]
  },
  {
   "cell_type": "code",
   "execution_count": 20,
   "id": "cab244b8",
   "metadata": {},
   "outputs": [
    {
     "data": {
      "text/html": [
       "<ol class=list-inline>\n",
       "\t<li>1089</li>\n",
       "\t<li>9</li>\n",
       "</ol>\n"
      ],
      "text/latex": [
       "\\begin{enumerate*}\n",
       "\\item 1089\n",
       "\\item 9\n",
       "\\end{enumerate*}\n"
      ],
      "text/markdown": [
       "1. 1089\n",
       "2. 9\n",
       "\n",
       "\n"
      ],
      "text/plain": [
       "[1] 1089    9"
      ]
     },
     "metadata": {},
     "output_type": "display_data"
    }
   ],
   "source": [
    "dim(Weekly)"
   ]
  },
  {
   "cell_type": "code",
   "execution_count": 21,
   "id": "1c121282",
   "metadata": {},
   "outputs": [
    {
     "data": {
      "text/plain": [
       "      Year           Lag1               Lag2               Lag3         \n",
       " Min.   :1990   Min.   :-18.1950   Min.   :-18.1950   Min.   :-18.1950  \n",
       " 1st Qu.:1995   1st Qu.: -1.1540   1st Qu.: -1.1540   1st Qu.: -1.1580  \n",
       " Median :2000   Median :  0.2410   Median :  0.2410   Median :  0.2410  \n",
       " Mean   :2000   Mean   :  0.1506   Mean   :  0.1511   Mean   :  0.1472  \n",
       " 3rd Qu.:2005   3rd Qu.:  1.4050   3rd Qu.:  1.4090   3rd Qu.:  1.4090  \n",
       " Max.   :2010   Max.   : 12.0260   Max.   : 12.0260   Max.   : 12.0260  \n",
       "      Lag4               Lag5              Volume            Today         \n",
       " Min.   :-18.1950   Min.   :-18.1950   Min.   :0.08747   Min.   :-18.1950  \n",
       " 1st Qu.: -1.1580   1st Qu.: -1.1660   1st Qu.:0.33202   1st Qu.: -1.1540  \n",
       " Median :  0.2380   Median :  0.2340   Median :1.00268   Median :  0.2410  \n",
       " Mean   :  0.1458   Mean   :  0.1399   Mean   :1.57462   Mean   :  0.1499  \n",
       " 3rd Qu.:  1.4090   3rd Qu.:  1.4050   3rd Qu.:2.05373   3rd Qu.:  1.4050  \n",
       " Max.   : 12.0260   Max.   : 12.0260   Max.   :9.32821   Max.   : 12.0260  \n",
       " Direction \n",
       " Down:484  \n",
       " Up  :605  \n",
       "           \n",
       "           \n",
       "           \n",
       "           "
      ]
     },
     "metadata": {},
     "output_type": "display_data"
    }
   ],
   "source": [
    "summary(Weekly)"
   ]
  },
  {
   "cell_type": "code",
   "execution_count": 23,
   "id": "cc69b97d",
   "metadata": {},
   "outputs": [
    {
     "data": {
      "text/html": [
       "<table>\n",
       "<thead><tr><th></th><th scope=col>Year</th><th scope=col>Lag1</th><th scope=col>Lag2</th><th scope=col>Lag3</th><th scope=col>Lag4</th><th scope=col>Lag5</th><th scope=col>Volume</th><th scope=col>Today</th></tr></thead>\n",
       "<tbody>\n",
       "\t<tr><th scope=row>Year</th><td> 1.00000000 </td><td>-0.032289274</td><td>-0.03339001 </td><td>-0.03000649 </td><td>-0.031127923</td><td>-0.030519101</td><td> 0.84194162 </td><td>-0.032459894</td></tr>\n",
       "\t<tr><th scope=row>Lag1</th><td>-0.03228927 </td><td> 1.000000000</td><td>-0.07485305 </td><td> 0.05863568 </td><td>-0.071273876</td><td>-0.008183096</td><td>-0.06495131 </td><td>-0.075031842</td></tr>\n",
       "\t<tr><th scope=row>Lag2</th><td>-0.03339001 </td><td>-0.074853051</td><td> 1.00000000 </td><td>-0.07572091 </td><td> 0.058381535</td><td>-0.072499482</td><td>-0.08551314 </td><td> 0.059166717</td></tr>\n",
       "\t<tr><th scope=row>Lag3</th><td>-0.03000649 </td><td> 0.058635682</td><td>-0.07572091 </td><td> 1.00000000 </td><td>-0.075395865</td><td> 0.060657175</td><td>-0.06928771 </td><td>-0.071243639</td></tr>\n",
       "\t<tr><th scope=row>Lag4</th><td>-0.03112792 </td><td>-0.071273876</td><td> 0.05838153 </td><td>-0.07539587 </td><td> 1.000000000</td><td>-0.075675027</td><td>-0.06107462 </td><td>-0.007825873</td></tr>\n",
       "\t<tr><th scope=row>Lag5</th><td>-0.03051910 </td><td>-0.008183096</td><td>-0.07249948 </td><td> 0.06065717 </td><td>-0.075675027</td><td> 1.000000000</td><td>-0.05851741 </td><td> 0.011012698</td></tr>\n",
       "\t<tr><th scope=row>Volume</th><td> 0.84194162 </td><td>-0.064951313</td><td>-0.08551314 </td><td>-0.06928771 </td><td>-0.061074617</td><td>-0.058517414</td><td> 1.00000000 </td><td>-0.033077783</td></tr>\n",
       "\t<tr><th scope=row>Today</th><td>-0.03245989 </td><td>-0.075031842</td><td> 0.05916672 </td><td>-0.07124364 </td><td>-0.007825873</td><td> 0.011012698</td><td>-0.03307778 </td><td> 1.000000000</td></tr>\n",
       "</tbody>\n",
       "</table>\n"
      ],
      "text/latex": [
       "\\begin{tabular}{r|llllllll}\n",
       "  & Year & Lag1 & Lag2 & Lag3 & Lag4 & Lag5 & Volume & Today\\\\\n",
       "\\hline\n",
       "\tYear &  1.00000000  & -0.032289274 & -0.03339001  & -0.03000649  & -0.031127923 & -0.030519101 &  0.84194162  & -0.032459894\\\\\n",
       "\tLag1 & -0.03228927  &  1.000000000 & -0.07485305  &  0.05863568  & -0.071273876 & -0.008183096 & -0.06495131  & -0.075031842\\\\\n",
       "\tLag2 & -0.03339001  & -0.074853051 &  1.00000000  & -0.07572091  &  0.058381535 & -0.072499482 & -0.08551314  &  0.059166717\\\\\n",
       "\tLag3 & -0.03000649  &  0.058635682 & -0.07572091  &  1.00000000  & -0.075395865 &  0.060657175 & -0.06928771  & -0.071243639\\\\\n",
       "\tLag4 & -0.03112792  & -0.071273876 &  0.05838153  & -0.07539587  &  1.000000000 & -0.075675027 & -0.06107462  & -0.007825873\\\\\n",
       "\tLag5 & -0.03051910  & -0.008183096 & -0.07249948  &  0.06065717  & -0.075675027 &  1.000000000 & -0.05851741  &  0.011012698\\\\\n",
       "\tVolume &  0.84194162  & -0.064951313 & -0.08551314  & -0.06928771  & -0.061074617 & -0.058517414 &  1.00000000  & -0.033077783\\\\\n",
       "\tToday & -0.03245989  & -0.075031842 &  0.05916672  & -0.07124364  & -0.007825873 &  0.011012698 & -0.03307778  &  1.000000000\\\\\n",
       "\\end{tabular}\n"
      ],
      "text/markdown": [
       "\n",
       "| <!--/--> | Year | Lag1 | Lag2 | Lag3 | Lag4 | Lag5 | Volume | Today |\n",
       "|---|---|---|---|---|---|---|---|---|\n",
       "| Year |  1.00000000  | -0.032289274 | -0.03339001  | -0.03000649  | -0.031127923 | -0.030519101 |  0.84194162  | -0.032459894 |\n",
       "| Lag1 | -0.03228927  |  1.000000000 | -0.07485305  |  0.05863568  | -0.071273876 | -0.008183096 | -0.06495131  | -0.075031842 |\n",
       "| Lag2 | -0.03339001  | -0.074853051 |  1.00000000  | -0.07572091  |  0.058381535 | -0.072499482 | -0.08551314  |  0.059166717 |\n",
       "| Lag3 | -0.03000649  |  0.058635682 | -0.07572091  |  1.00000000  | -0.075395865 |  0.060657175 | -0.06928771  | -0.071243639 |\n",
       "| Lag4 | -0.03112792  | -0.071273876 |  0.05838153  | -0.07539587  |  1.000000000 | -0.075675027 | -0.06107462  | -0.007825873 |\n",
       "| Lag5 | -0.03051910  | -0.008183096 | -0.07249948  |  0.06065717  | -0.075675027 |  1.000000000 | -0.05851741  |  0.011012698 |\n",
       "| Volume |  0.84194162  | -0.064951313 | -0.08551314  | -0.06928771  | -0.061074617 | -0.058517414 |  1.00000000  | -0.033077783 |\n",
       "| Today | -0.03245989  | -0.075031842 |  0.05916672  | -0.07124364  | -0.007825873 |  0.011012698 | -0.03307778  |  1.000000000 |\n",
       "\n"
      ],
      "text/plain": [
       "       Year        Lag1         Lag2        Lag3        Lag4        \n",
       "Year    1.00000000 -0.032289274 -0.03339001 -0.03000649 -0.031127923\n",
       "Lag1   -0.03228927  1.000000000 -0.07485305  0.05863568 -0.071273876\n",
       "Lag2   -0.03339001 -0.074853051  1.00000000 -0.07572091  0.058381535\n",
       "Lag3   -0.03000649  0.058635682 -0.07572091  1.00000000 -0.075395865\n",
       "Lag4   -0.03112792 -0.071273876  0.05838153 -0.07539587  1.000000000\n",
       "Lag5   -0.03051910 -0.008183096 -0.07249948  0.06065717 -0.075675027\n",
       "Volume  0.84194162 -0.064951313 -0.08551314 -0.06928771 -0.061074617\n",
       "Today  -0.03245989 -0.075031842  0.05916672 -0.07124364 -0.007825873\n",
       "       Lag5         Volume      Today       \n",
       "Year   -0.030519101  0.84194162 -0.032459894\n",
       "Lag1   -0.008183096 -0.06495131 -0.075031842\n",
       "Lag2   -0.072499482 -0.08551314  0.059166717\n",
       "Lag3    0.060657175 -0.06928771 -0.071243639\n",
       "Lag4   -0.075675027 -0.06107462 -0.007825873\n",
       "Lag5    1.000000000 -0.05851741  0.011012698\n",
       "Volume -0.058517414  1.00000000 -0.033077783\n",
       "Today   0.011012698 -0.03307778  1.000000000"
      ]
     },
     "metadata": {},
     "output_type": "display_data"
    }
   ],
   "source": [
    "cor(Weekly[,-9])"
   ]
  },
  {
   "cell_type": "code",
   "execution_count": 24,
   "id": "7084d053",
   "metadata": {},
   "outputs": [],
   "source": [
    "attach(Weekly)"
   ]
  },
  {
   "cell_type": "code",
   "execution_count": 25,
   "id": "3413b3f7",
   "metadata": {},
   "outputs": [
    {
     "data": {
      "image/png": "[encoded data removed]",
      "text/plain": [
       "plot without title"
      ]
     },
     "metadata": {},
     "output_type": "display_data"
    }
   ],
   "source": [
    "plot(Volume)"
   ]
  },
  {
   "cell_type": "code",
   "execution_count": 28,
   "id": "2a9594d4",
   "metadata": {},
   "outputs": [],
   "source": [
    "# (b)"
   ]
  },
  {
   "cell_type": "code",
   "execution_count": 26,
   "id": "6fdb89fa",
   "metadata": {},
   "outputs": [],
   "source": [
    "glm.fits=glm(Direction~Lag1+Lag2+Lag3+Lag4+Lag5+Volume,data=Weekly,family=binomial)"
   ]
  },
  {
   "cell_type": "code",
   "execution_count": 27,
   "id": "1239afa0",
   "metadata": {},
   "outputs": [
    {
     "data": {
      "text/plain": [
       "\n",
       "Call:\n",
       "glm(formula = Direction ~ Lag1 + Lag2 + Lag3 + Lag4 + Lag5 + \n",
       "    Volume, family = binomial, data = Weekly)\n",
       "\n",
       "Deviance Residuals: \n",
       "    Min       1Q   Median       3Q      Max  \n",
       "-1.6949  -1.2565   0.9913   1.0849   1.4579  \n",
       "\n",
       "Coefficients:\n",
       "            Estimate Std. Error z value Pr(>|z|)   \n",
       "(Intercept)  0.26686    0.08593   3.106   0.0019 **\n",
       "Lag1        -0.04127    0.02641  -1.563   0.1181   \n",
       "Lag2         0.05844    0.02686   2.175   0.0296 * \n",
       "Lag3        -0.01606    0.02666  -0.602   0.5469   \n",
       "Lag4        -0.02779    0.02646  -1.050   0.2937   \n",
       "Lag5        -0.01447    0.02638  -0.549   0.5833   \n",
       "Volume      -0.02274    0.03690  -0.616   0.5377   \n",
       "---\n",
       "Signif. codes:  0 '***' 0.001 '**' 0.01 '*' 0.05 '.' 0.1 ' ' 1\n",
       "\n",
       "(Dispersion parameter for binomial family taken to be 1)\n",
       "\n",
       "    Null deviance: 1496.2  on 1088  degrees of freedom\n",
       "Residual deviance: 1486.4  on 1082  degrees of freedom\n",
       "AIC: 1500.4\n",
       "\n",
       "Number of Fisher Scoring iterations: 4\n"
      ]
     },
     "metadata": {},
     "output_type": "display_data"
    }
   ],
   "source": [
    "summary(glm.fits)"
   ]
  },
  {
   "cell_type": "code",
   "execution_count": 29,
   "id": "21dfc598",
   "metadata": {},
   "outputs": [
    {
     "data": {
      "text/html": [
       "<dl class=dl-horizontal>\n",
       "\t<dt>(Intercept)</dt>\n",
       "\t\t<dd>0.266864141430795</dd>\n",
       "\t<dt>Lag1</dt>\n",
       "\t\t<dd>-0.0412689400271679</dd>\n",
       "\t<dt>Lag2</dt>\n",
       "\t\t<dd>0.0584416754635488</dd>\n",
       "\t<dt>Lag3</dt>\n",
       "\t\t<dd>-0.0160611438185425</dd>\n",
       "\t<dt>Lag4</dt>\n",
       "\t\t<dd>-0.0277902103879172</dd>\n",
       "\t<dt>Lag5</dt>\n",
       "\t\t<dd>-0.0144720643823032</dd>\n",
       "\t<dt>Volume</dt>\n",
       "\t\t<dd>-0.0227415314988368</dd>\n",
       "</dl>\n"
      ],
      "text/latex": [
       "\\begin{description*}\n",
       "\\item[(Intercept)] 0.266864141430795\n",
       "\\item[Lag1] -0.0412689400271679\n",
       "\\item[Lag2] 0.0584416754635488\n",
       "\\item[Lag3] -0.0160611438185425\n",
       "\\item[Lag4] -0.0277902103879172\n",
       "\\item[Lag5] -0.0144720643823032\n",
       "\\item[Volume] -0.0227415314988368\n",
       "\\end{description*}\n"
      ],
      "text/markdown": [
       "(Intercept)\n",
       ":   0.266864141430795Lag1\n",
       ":   -0.0412689400271679Lag2\n",
       ":   0.0584416754635488Lag3\n",
       ":   -0.0160611438185425Lag4\n",
       ":   -0.0277902103879172Lag5\n",
       ":   -0.0144720643823032Volume\n",
       ":   -0.0227415314988368\n",
       "\n"
      ],
      "text/plain": [
       "(Intercept)        Lag1        Lag2        Lag3        Lag4        Lag5 \n",
       " 0.26686414 -0.04126894  0.05844168 -0.01606114 -0.02779021 -0.01447206 \n",
       "     Volume \n",
       "-0.02274153 "
      ]
     },
     "metadata": {},
     "output_type": "display_data"
    }
   ],
   "source": [
    "coef(glm.fits)"
   ]
  },
  {
   "cell_type": "code",
   "execution_count": 30,
   "id": "92afae7c",
   "metadata": {},
   "outputs": [
    {
     "data": {
      "text/plain": [
       "    Min.  1st Qu.   Median     Mean  3rd Qu.     Max. \n",
       "-0.04127 -0.02527 -0.01606  0.02900  0.02198  0.26686 "
      ]
     },
     "metadata": {},
     "output_type": "display_data"
    }
   ],
   "source": [
    "summary(glm.fits$coef)"
   ]
  },
  {
   "cell_type": "code",
   "execution_count": 31,
   "id": "05a8a2db",
   "metadata": {},
   "outputs": [],
   "source": [
    "glm.probs = predict(glm.fits, type = \"response\")"
   ]
  },
  {
   "cell_type": "code",
   "execution_count": 35,
   "id": "48019a33",
   "metadata": {},
   "outputs": [],
   "source": [
    "glm.pred = rep(\"Down\",1089)"
   ]
  },
  {
   "cell_type": "code",
   "execution_count": 36,
   "id": "06cd20b5",
   "metadata": {},
   "outputs": [],
   "source": [
    "glm.pred[glm.probs>.5]=\"Up\""
   ]
  },
  {
   "cell_type": "code",
   "execution_count": 38,
   "id": "11a50687",
   "metadata": {},
   "outputs": [],
   "source": [
    "# (c)"
   ]
  },
  {
   "cell_type": "code",
   "execution_count": 37,
   "id": "d0e80e39",
   "metadata": {},
   "outputs": [
    {
     "data": {
      "text/plain": [
       "        Direction\n",
       "glm.pred Down  Up\n",
       "    Down   54  48\n",
       "    Up    430 557"
      ]
     },
     "metadata": {},
     "output_type": "display_data"
    }
   ],
   "source": [
    "table(glm.pred,Direction)"
   ]
  },
  {
   "cell_type": "code",
   "execution_count": 40,
   "id": "7a697a45",
   "metadata": {},
   "outputs": [],
   "source": [
    "train = (Year<2009)"
   ]
  },
  {
   "cell_type": "code",
   "execution_count": 41,
   "id": "41a183d4",
   "metadata": {},
   "outputs": [],
   "source": [
    "Weekly.2009 = Weekly[!train,]"
   ]
  },
  {
   "cell_type": "code",
   "execution_count": 42,
   "id": "aa872c7d",
   "metadata": {},
   "outputs": [
    {
     "data": {
      "text/html": [
       "<ol class=list-inline>\n",
       "\t<li>104</li>\n",
       "\t<li>9</li>\n",
       "</ol>\n"
      ],
      "text/latex": [
       "\\begin{enumerate*}\n",
       "\\item 104\n",
       "\\item 9\n",
       "\\end{enumerate*}\n"
      ],
      "text/markdown": [
       "1. 104\n",
       "2. 9\n",
       "\n",
       "\n"
      ],
      "text/plain": [
       "[1] 104   9"
      ]
     },
     "metadata": {},
     "output_type": "display_data"
    }
   ],
   "source": [
    "dim(Weekly.2009)"
   ]
  },
  {
   "cell_type": "code",
   "execution_count": 43,
   "id": "8e1f9eb4",
   "metadata": {},
   "outputs": [],
   "source": [
    "Direction.2009=Direction[!train]"
   ]
  },
  {
   "cell_type": "code",
   "execution_count": 45,
   "id": "122a7510",
   "metadata": {},
   "outputs": [],
   "source": [
    "# (d)"
   ]
  },
  {
   "cell_type": "code",
   "execution_count": 44,
   "id": "1444e8f3",
   "metadata": {},
   "outputs": [],
   "source": [
    "glm.fits = glm(Direction~Lag2,data=Weekly,family=binomial,subset=train)"
   ]
  },
  {
   "cell_type": "code",
   "execution_count": 46,
   "id": "a7faf649",
   "metadata": {},
   "outputs": [],
   "source": [
    "glm.probs=predict(glm.fits,Weekly.2009,type=\"response\")"
   ]
  },
  {
   "cell_type": "code",
   "execution_count": 47,
   "id": "f450b2b3",
   "metadata": {},
   "outputs": [],
   "source": [
    "glm.pred=rep(\"Down\",104)"
   ]
  },
  {
   "cell_type": "code",
   "execution_count": 48,
   "id": "b4971f11",
   "metadata": {},
   "outputs": [],
   "source": [
    "glm.pred[glm.probs>.5]=\"Up\""
   ]
  },
  {
   "cell_type": "code",
   "execution_count": 49,
   "id": "f6a59e95",
   "metadata": {},
   "outputs": [
    {
     "data": {
      "text/plain": [
       "        Direction.2009\n",
       "glm.pred Down Up\n",
       "    Down    9  5\n",
       "    Up     34 56"
      ]
     },
     "metadata": {},
     "output_type": "display_data"
    }
   ],
   "source": [
    "table(glm.pred,Direction.2009)"
   ]
  },
  {
   "cell_type": "code",
   "execution_count": 50,
   "id": "3b64a74a",
   "metadata": {},
   "outputs": [
    {
     "data": {
      "text/html": [
       "0.625"
      ],
      "text/latex": [
       "0.625"
      ],
      "text/markdown": [
       "0.625"
      ],
      "text/plain": [
       "[1] 0.625"
      ]
     },
     "metadata": {},
     "output_type": "display_data"
    }
   ],
   "source": [
    "mean(glm.pred == Direction.2009)"
   ]
  },
  {
   "cell_type": "code",
   "execution_count": 52,
   "id": "3c2029d2",
   "metadata": {},
   "outputs": [
    {
     "data": {
      "text/html": [
       "0.375"
      ],
      "text/latex": [
       "0.375"
      ],
      "text/markdown": [
       "0.375"
      ],
      "text/plain": [
       "[1] 0.375"
      ]
     },
     "metadata": {},
     "output_type": "display_data"
    }
   ],
   "source": [
    "mean(glm.pred != Direction.2009)"
   ]
  },
  {
   "cell_type": "code",
   "execution_count": 53,
   "id": "b4851d43",
   "metadata": {},
   "outputs": [],
   "source": [
    "# (e)"
   ]
  },
  {
   "cell_type": "code",
   "execution_count": 54,
   "id": "aeb46e0b",
   "metadata": {},
   "outputs": [
    {
     "name": "stderr",
     "output_type": "stream",
     "text": [
      "Warning message:\n",
      "\"package 'MASS' was built under R version 3.6.3\""
     ]
    }
   ],
   "source": [
    "library(MASS)"
   ]
  },
  {
   "cell_type": "code",
   "execution_count": 55,
   "id": "b3c92572",
   "metadata": {},
   "outputs": [],
   "source": [
    "lda.fit = lda(Direction~Lag2,data=Weekly,subset=train)"
   ]
  },
  {
   "cell_type": "code",
   "execution_count": 56,
   "id": "fe889568",
   "metadata": {},
   "outputs": [
    {
     "data": {
      "text/plain": [
       "Call:\n",
       "lda(Direction ~ Lag2, data = Weekly, subset = train)\n",
       "\n",
       "Prior probabilities of groups:\n",
       "     Down        Up \n",
       "0.4477157 0.5522843 \n",
       "\n",
       "Group means:\n",
       "            Lag2\n",
       "Down -0.03568254\n",
       "Up    0.26036581\n",
       "\n",
       "Coefficients of linear discriminants:\n",
       "           LD1\n",
       "Lag2 0.4414162"
      ]
     },
     "metadata": {},
     "output_type": "display_data"
    }
   ],
   "source": [
    "lda.fit"
   ]
  },
  {
   "cell_type": "code",
   "execution_count": 57,
   "id": "18096239",
   "metadata": {},
   "outputs": [
    {
     "data": {
      "image/png": "[encoded data removed]",
      "text/plain": [
       "plot without title"
      ]
     },
     "metadata": {},
     "output_type": "display_data"
    }
   ],
   "source": [
    "plot(lda.fit)"
   ]
  },
  {
   "cell_type": "code",
   "execution_count": 58,
   "id": "1480c7c8",
   "metadata": {},
   "outputs": [],
   "source": [
    "lda.pred = predict(lda.fit,Weekly.2009)"
   ]
  },
  {
   "cell_type": "code",
   "execution_count": 59,
   "id": "c65a4628",
   "metadata": {},
   "outputs": [],
   "source": [
    "lda.class=lda.pred$class"
   ]
  },
  {
   "cell_type": "code",
   "execution_count": 60,
   "id": "7ff9076d",
   "metadata": {},
   "outputs": [
    {
     "data": {
      "text/plain": [
       "         Direction.2009\n",
       "lda.class Down Up\n",
       "     Down    9  5\n",
       "     Up     34 56"
      ]
     },
     "metadata": {},
     "output_type": "display_data"
    }
   ],
   "source": [
    "table(lda.class, Direction.2009)"
   ]
  },
  {
   "cell_type": "code",
   "execution_count": 66,
   "id": "b6446249",
   "metadata": {},
   "outputs": [
    {
     "data": {
      "text/html": [
       "0.625"
      ],
      "text/latex": [
       "0.625"
      ],
      "text/markdown": [
       "0.625"
      ],
      "text/plain": [
       "[1] 0.625"
      ]
     },
     "metadata": {},
     "output_type": "display_data"
    }
   ],
   "source": [
    "mean(lda.class == Direction.2009)"
   ]
  },
  {
   "cell_type": "code",
   "execution_count": 61,
   "id": "ccb1e3f3",
   "metadata": {},
   "outputs": [],
   "source": [
    "# (f)"
   ]
  },
  {
   "cell_type": "code",
   "execution_count": 62,
   "id": "b62bb05b",
   "metadata": {},
   "outputs": [],
   "source": [
    "qda.fit = qda(Direction~Lag2,data=Weekly,subset=train)"
   ]
  },
  {
   "cell_type": "code",
   "execution_count": 63,
   "id": "4170bacf",
   "metadata": {},
   "outputs": [
    {
     "data": {
      "text/plain": [
       "Call:\n",
       "qda(Direction ~ Lag2, data = Weekly, subset = train)\n",
       "\n",
       "Prior probabilities of groups:\n",
       "     Down        Up \n",
       "0.4477157 0.5522843 \n",
       "\n",
       "Group means:\n",
       "            Lag2\n",
       "Down -0.03568254\n",
       "Up    0.26036581"
      ]
     },
     "metadata": {},
     "output_type": "display_data"
    }
   ],
   "source": [
    "qda.fit"
   ]
  },
  {
   "cell_type": "code",
   "execution_count": 64,
   "id": "d4da19ff",
   "metadata": {},
   "outputs": [],
   "source": [
    "qda.class = predict(qda.fit,Weekly.2009)$class"
   ]
  },
  {
   "cell_type": "code",
   "execution_count": 65,
   "id": "fa6d5e06",
   "metadata": {},
   "outputs": [
    {
     "data": {
      "text/plain": [
       "         Direction.2009\n",
       "qda.class Down Up\n",
       "     Down    0  0\n",
       "     Up     43 61"
      ]
     },
     "metadata": {},
     "output_type": "display_data"
    }
   ],
   "source": [
    "table(qda.class,Direction.2009)"
   ]
  },
  {
   "cell_type": "code",
   "execution_count": 67,
   "id": "93cdc6db",
   "metadata": {},
   "outputs": [
    {
     "data": {
      "text/html": [
       "0.586538461538462"
      ],
      "text/latex": [
       "0.586538461538462"
      ],
      "text/markdown": [
       "0.586538461538462"
      ],
      "text/plain": [
       "[1] 0.5865385"
      ]
     },
     "metadata": {},
     "output_type": "display_data"
    }
   ],
   "source": [
    "mean(qda.class == Direction.2009)"
   ]
  },
  {
   "cell_type": "code",
   "execution_count": 68,
   "id": "d5d28da8",
   "metadata": {},
   "outputs": [],
   "source": [
    "# (g)"
   ]
  },
  {
   "cell_type": "code",
   "execution_count": 69,
   "id": "3339c2bc",
   "metadata": {},
   "outputs": [],
   "source": [
    "library(class)"
   ]
  },
  {
   "cell_type": "code",
   "execution_count": 70,
   "id": "9e7adae1",
   "metadata": {},
   "outputs": [],
   "source": [
    "train.X=cbind(Lag2)[train,]"
   ]
  },
  {
   "cell_type": "code",
   "execution_count": 71,
   "id": "a82629af",
   "metadata": {},
   "outputs": [],
   "source": [
    "test.X=cbind(Lag2)[!train,]"
   ]
  },
  {
   "cell_type": "code",
   "execution_count": 72,
   "id": "4d264209",
   "metadata": {},
   "outputs": [],
   "source": [
    "train.Direction=Direction[train]"
   ]
  },
  {
   "cell_type": "code",
   "execution_count": 73,
   "id": "d3af7706",
   "metadata": {},
   "outputs": [],
   "source": [
    "set.seed(1)"
   ]
  },
  {
   "cell_type": "code",
   "execution_count": 75,
   "id": "933630ff",
   "metadata": {},
   "outputs": [
    {
     "ename": "ERROR",
     "evalue": "Error in knn(train.X, test.X, train.Direction, k = 1): dims of 'test' and 'train' differ\n",
     "output_type": "error",
     "traceback": [
      "Error in knn(train.X, test.X, train.Direction, k = 1): dims of 'test' and 'train' differ\nTraceback:\n",
      "1. knn(train.X, test.X, train.Direction, k = 1)",
      "2. stop(\"dims of 'test' and 'train' differ\")"
     ]
    }
   ],
   "source": [
    "knn.pred=knn(train.X,test.X,train.Direction,k=1)"
   ]
  },
  {
   "cell_type": "code",
   "execution_count": 76,
   "id": "1726cac9",
   "metadata": {},
   "outputs": [],
   "source": [
    "# (h)"
   ]
  },
  {
   "cell_type": "code",
   "execution_count": 77,
   "id": "ce6462d0",
   "metadata": {},
   "outputs": [],
   "source": [
    "# LDA provided the best result"
   ]
  },
  {
   "cell_type": "code",
   "execution_count": 79,
   "id": "5420f86f",
   "metadata": {},
   "outputs": [],
   "source": [
    "# (i)"
   ]
  },
  {
   "cell_type": "code",
   "execution_count": 78,
   "id": "1f869b63",
   "metadata": {},
   "outputs": [
    {
     "ename": "ERROR",
     "evalue": "Error in knn(train.X, test.X, train.Direction, k = 3): dims of 'test' and 'train' differ\n",
     "output_type": "error",
     "traceback": [
      "Error in knn(train.X, test.X, train.Direction, k = 3): dims of 'test' and 'train' differ\nTraceback:\n",
      "1. knn(train.X, test.X, train.Direction, k = 3)",
      "2. stop(\"dims of 'test' and 'train' differ\")"
     ]
    }
   ],
   "source": [
    "knn.pred=knn(train.X,test.X,train.Direction,k=3)"
   ]
  },
  {
   "cell_type": "code",
   "execution_count": null,
   "id": "df3c52e3",
   "metadata": {},
   "outputs": [],
   "source": []
  }
 ],
 "metadata": {
  "kernelspec": {
   "display_name": "R",
   "language": "R",
   "name": "ir"
  },
  "language_info": {
   "codemirror_mode": "r",
   "file_extension": ".r",
   "mimetype": "text/x-r-source",
   "name": "R",
   "pygments_lexer": "r",
   "version": "3.6.1"
  }
 },
 "nbformat": 4,
 "nbformat_minor": 5
}
