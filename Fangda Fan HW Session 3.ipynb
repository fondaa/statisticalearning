{
 "cells": [
  {
   "cell_type": "code",
   "execution_count": 1,
   "id": "cd4e741f",
   "metadata": {},
   "outputs": [],
   "source": [
    "# Chapter 5\n",
    "# 3 a"
   ]
  },
  {
   "cell_type": "code",
   "execution_count": 2,
   "id": "bed79cce",
   "metadata": {},
   "outputs": [],
   "source": [
    "# The k-fold approach involves randomly dividing the set of observations into k groups, or folds, of approximately equal size. \n",
    "# The first fold is treated as a validation set, and the method is fit on the remaining k-1 folds. The MSE is then computed on \n",
    "# the observations in the held-out hold, and this procedure is repeated k times.\n",
    "# Each time a different group of observations is treated as a validation set. \n",
    "# The k-fold CV estimate is computed by average all the MSEs."
   ]
  },
  {
   "cell_type": "code",
   "execution_count": 3,
   "id": "e856596b",
   "metadata": {},
   "outputs": [],
   "source": [
    "# 3 b"
   ]
  },
  {
   "cell_type": "code",
   "execution_count": 4,
   "id": "032edf37",
   "metadata": {},
   "outputs": [],
   "source": [
    "# The validation set approach can lead to overestimates of the test error rate, since in this approach the training set used to fit\n",
    "# the statistical learning method contains only half the observations of the entire data set.\n",
    "# LOOCV will give approximately unbiased estimates of the test error, since each training set contains n-1 observations, which\n",
    "# is almost as many as the number of observations in the full data set.\n",
    "# k-fold CV leads to an intermediate level of bias, since each training set contains less observations than the LOOCV approach,\n",
    "# but more than the validation set approach. k-fold CV therefore has an intermediate bias reduction level,\n",
    "# and also an intermediate variance result, thus the bias-variance trade-off is the most optimal with k-fold approach."
   ]
  },
  {
   "cell_type": "code",
   "execution_count": 5,
   "id": "cf4c666f",
   "metadata": {},
   "outputs": [],
   "source": [
    "# 8"
   ]
  },
  {
   "cell_type": "code",
   "execution_count": 6,
   "id": "1290fd50",
   "metadata": {},
   "outputs": [],
   "source": [
    "# a"
   ]
  },
  {
   "cell_type": "code",
   "execution_count": 7,
   "id": "14ae01b7",
   "metadata": {},
   "outputs": [],
   "source": [
    "set.seed(1)"
   ]
  },
  {
   "cell_type": "code",
   "execution_count": 8,
   "id": "c76b5b32",
   "metadata": {},
   "outputs": [],
   "source": [
    "x=rnorm(100)"
   ]
  },
  {
   "cell_type": "code",
   "execution_count": 9,
   "id": "170b0c6e",
   "metadata": {},
   "outputs": [],
   "source": [
    "y=x-2*x^2+rnorm(100)"
   ]
  },
  {
   "cell_type": "code",
   "execution_count": 10,
   "id": "00a16d52",
   "metadata": {},
   "outputs": [
    {
     "data": {
      "text/html": [
       "<ol class=list-inline>\n",
       "\t<li>-0.626453810742332</li>\n",
       "\t<li>0.183643324222082</li>\n",
       "\t<li>-0.835628612410047</li>\n",
       "\t<li>1.59528080213779</li>\n",
       "\t<li>0.329507771815361</li>\n",
       "\t<li>-0.820468384118015</li>\n",
       "\t<li>0.487429052428485</li>\n",
       "\t<li>0.738324705129217</li>\n",
       "\t<li>0.575781351653492</li>\n",
       "\t<li>-0.305388387156356</li>\n",
       "\t<li>1.51178116845085</li>\n",
       "\t<li>0.389843236411431</li>\n",
       "\t<li>-0.621240580541804</li>\n",
       "\t<li>-2.2146998871775</li>\n",
       "\t<li>1.12493091814311</li>\n",
       "\t<li>-0.0449336090152309</li>\n",
       "\t<li>-0.0161902630989461</li>\n",
       "\t<li>0.943836210685299</li>\n",
       "\t<li>0.821221195098089</li>\n",
       "\t<li>0.593901321217509</li>\n",
       "\t<li>0.918977371608218</li>\n",
       "\t<li>0.782136300731067</li>\n",
       "\t<li>0.0745649833651906</li>\n",
       "\t<li>-1.98935169586337</li>\n",
       "\t<li>0.61982574789471</li>\n",
       "\t<li>-0.0561287395290008</li>\n",
       "\t<li>-0.155795506705329</li>\n",
       "\t<li>-1.47075238389927</li>\n",
       "\t<li>-0.47815005510862</li>\n",
       "\t<li>0.417941560199702</li>\n",
       "\t<li>1.35867955152904</li>\n",
       "\t<li>-0.102787727342996</li>\n",
       "\t<li>0.387671611559369</li>\n",
       "\t<li>-0.0538050405829051</li>\n",
       "\t<li>-1.37705955682861</li>\n",
       "\t<li>-0.41499456329968</li>\n",
       "\t<li>-0.394289953710349</li>\n",
       "\t<li>-0.0593133967111857</li>\n",
       "\t<li>1.10002537198388</li>\n",
       "\t<li>0.763175748457544</li>\n",
       "\t<li>-0.164523596253587</li>\n",
       "\t<li>-0.253361680136508</li>\n",
       "\t<li>0.696963375404737</li>\n",
       "\t<li>0.556663198673657</li>\n",
       "\t<li>-0.68875569454952</li>\n",
       "\t<li>-0.70749515696212</li>\n",
       "\t<li>0.36458196213683</li>\n",
       "\t<li>0.768532924515416</li>\n",
       "\t<li>-0.112346212150228</li>\n",
       "\t<li>0.881107726454215</li>\n",
       "\t<li>0.398105880367068</li>\n",
       "\t<li>-0.612026393250771</li>\n",
       "\t<li>0.341119691424425</li>\n",
       "\t<li>-1.12936309608079</li>\n",
       "\t<li>1.43302370170104</li>\n",
       "\t<li>1.98039989850586</li>\n",
       "\t<li>-0.367221476466509</li>\n",
       "\t<li>-1.04413462631653</li>\n",
       "\t<li>0.569719627442413</li>\n",
       "\t<li>-0.135054603880824</li>\n",
       "\t<li>2.40161776050478</li>\n",
       "\t<li>-0.0392400027331692</li>\n",
       "\t<li>0.689739362450777</li>\n",
       "\t<li>0.0280021587806661</li>\n",
       "\t<li>-0.743273208882405</li>\n",
       "\t<li>0.188792299514343</li>\n",
       "\t<li>-1.80495862889104</li>\n",
       "\t<li>1.46555486156289</li>\n",
       "\t<li>0.153253338211898</li>\n",
       "\t<li>2.17261167036215</li>\n",
       "\t<li>0.475509528899663</li>\n",
       "\t<li>-0.709946430921815</li>\n",
       "\t<li>0.610726353489055</li>\n",
       "\t<li>-0.934097631644252</li>\n",
       "\t<li>-1.2536334002391</li>\n",
       "\t<li>0.291446235517463</li>\n",
       "\t<li>-0.443291873218433</li>\n",
       "\t<li>0.00110535163162413</li>\n",
       "\t<li>0.0743413241516641</li>\n",
       "\t<li>-0.589520946188072</li>\n",
       "\t<li>-0.568668732818502</li>\n",
       "\t<li>-0.135178615123832</li>\n",
       "\t<li>1.1780869965732</li>\n",
       "\t<li>-1.52356680042976</li>\n",
       "\t<li>0.593946187628422</li>\n",
       "\t<li>0.332950371213518</li>\n",
       "\t<li>1.06309983727636</li>\n",
       "\t<li>-0.304183923634301</li>\n",
       "\t<li>0.370018809916288</li>\n",
       "\t<li>0.267098790772231</li>\n",
       "\t<li>-0.54252003099165</li>\n",
       "\t<li>1.20786780598317</li>\n",
       "\t<li>1.16040261569495</li>\n",
       "\t<li>0.700213649514998</li>\n",
       "\t<li>1.58683345454085</li>\n",
       "\t<li>0.558486425565304</li>\n",
       "\t<li>-1.27659220845804</li>\n",
       "\t<li>-0.573265414236886</li>\n",
       "\t<li>-1.22461261489836</li>\n",
       "\t<li>-0.473400636439312</li>\n",
       "</ol>\n"
      ],
      "text/latex": [
       "\\begin{enumerate*}\n",
       "\\item -0.626453810742332\n",
       "\\item 0.183643324222082\n",
       "\\item -0.835628612410047\n",
       "\\item 1.59528080213779\n",
       "\\item 0.329507771815361\n",
       "\\item -0.820468384118015\n",
       "\\item 0.487429052428485\n",
       "\\item 0.738324705129217\n",
       "\\item 0.575781351653492\n",
       "\\item -0.305388387156356\n",
       "\\item 1.51178116845085\n",
       "\\item 0.389843236411431\n",
       "\\item -0.621240580541804\n",
       "\\item -2.2146998871775\n",
       "\\item 1.12493091814311\n",
       "\\item -0.0449336090152309\n",
       "\\item -0.0161902630989461\n",
       "\\item 0.943836210685299\n",
       "\\item 0.821221195098089\n",
       "\\item 0.593901321217509\n",
       "\\item 0.918977371608218\n",
       "\\item 0.782136300731067\n",
       "\\item 0.0745649833651906\n",
       "\\item -1.98935169586337\n",
       "\\item 0.61982574789471\n",
       "\\item -0.0561287395290008\n",
       "\\item -0.155795506705329\n",
       "\\item -1.47075238389927\n",
       "\\item -0.47815005510862\n",
       "\\item 0.417941560199702\n",
       "\\item 1.35867955152904\n",
       "\\item -0.102787727342996\n",
       "\\item 0.387671611559369\n",
       "\\item -0.0538050405829051\n",
       "\\item -1.37705955682861\n",
       "\\item -0.41499456329968\n",
       "\\item -0.394289953710349\n",
       "\\item -0.0593133967111857\n",
       "\\item 1.10002537198388\n",
       "\\item 0.763175748457544\n",
       "\\item -0.164523596253587\n",
       "\\item -0.253361680136508\n",
       "\\item 0.696963375404737\n",
       "\\item 0.556663198673657\n",
       "\\item -0.68875569454952\n",
       "\\item -0.70749515696212\n",
       "\\item 0.36458196213683\n",
       "\\item 0.768532924515416\n",
       "\\item -0.112346212150228\n",
       "\\item 0.881107726454215\n",
       "\\item 0.398105880367068\n",
       "\\item -0.612026393250771\n",
       "\\item 0.341119691424425\n",
       "\\item -1.12936309608079\n",
       "\\item 1.43302370170104\n",
       "\\item 1.98039989850586\n",
       "\\item -0.367221476466509\n",
       "\\item -1.04413462631653\n",
       "\\item 0.569719627442413\n",
       "\\item -0.135054603880824\n",
       "\\item 2.40161776050478\n",
       "\\item -0.0392400027331692\n",
       "\\item 0.689739362450777\n",
       "\\item 0.0280021587806661\n",
       "\\item -0.743273208882405\n",
       "\\item 0.188792299514343\n",
       "\\item -1.80495862889104\n",
       "\\item 1.46555486156289\n",
       "\\item 0.153253338211898\n",
       "\\item 2.17261167036215\n",
       "\\item 0.475509528899663\n",
       "\\item -0.709946430921815\n",
       "\\item 0.610726353489055\n",
       "\\item -0.934097631644252\n",
       "\\item -1.2536334002391\n",
       "\\item 0.291446235517463\n",
       "\\item -0.443291873218433\n",
       "\\item 0.00110535163162413\n",
       "\\item 0.0743413241516641\n",
       "\\item -0.589520946188072\n",
       "\\item -0.568668732818502\n",
       "\\item -0.135178615123832\n",
       "\\item 1.1780869965732\n",
       "\\item -1.52356680042976\n",
       "\\item 0.593946187628422\n",
       "\\item 0.332950371213518\n",
       "\\item 1.06309983727636\n",
       "\\item -0.304183923634301\n",
       "\\item 0.370018809916288\n",
       "\\item 0.267098790772231\n",
       "\\item -0.54252003099165\n",
       "\\item 1.20786780598317\n",
       "\\item 1.16040261569495\n",
       "\\item 0.700213649514998\n",
       "\\item 1.58683345454085\n",
       "\\item 0.558486425565304\n",
       "\\item -1.27659220845804\n",
       "\\item -0.573265414236886\n",
       "\\item -1.22461261489836\n",
       "\\item -0.473400636439312\n",
       "\\end{enumerate*}\n"
      ],
      "text/markdown": [
       "1. -0.626453810742332\n",
       "2. 0.183643324222082\n",
       "3. -0.835628612410047\n",
       "4. 1.59528080213779\n",
       "5. 0.329507771815361\n",
       "6. -0.820468384118015\n",
       "7. 0.487429052428485\n",
       "8. 0.738324705129217\n",
       "9. 0.575781351653492\n",
       "10. -0.305388387156356\n",
       "11. 1.51178116845085\n",
       "12. 0.389843236411431\n",
       "13. -0.621240580541804\n",
       "14. -2.2146998871775\n",
       "15. 1.12493091814311\n",
       "16. -0.0449336090152309\n",
       "17. -0.0161902630989461\n",
       "18. 0.943836210685299\n",
       "19. 0.821221195098089\n",
       "20. 0.593901321217509\n",
       "21. 0.918977371608218\n",
       "22. 0.782136300731067\n",
       "23. 0.0745649833651906\n",
       "24. -1.98935169586337\n",
       "25. 0.61982574789471\n",
       "26. -0.0561287395290008\n",
       "27. -0.155795506705329\n",
       "28. -1.47075238389927\n",
       "29. -0.47815005510862\n",
       "30. 0.417941560199702\n",
       "31. 1.35867955152904\n",
       "32. -0.102787727342996\n",
       "33. 0.387671611559369\n",
       "34. -0.0538050405829051\n",
       "35. -1.37705955682861\n",
       "36. -0.41499456329968\n",
       "37. -0.394289953710349\n",
       "38. -0.0593133967111857\n",
       "39. 1.10002537198388\n",
       "40. 0.763175748457544\n",
       "41. -0.164523596253587\n",
       "42. -0.253361680136508\n",
       "43. 0.696963375404737\n",
       "44. 0.556663198673657\n",
       "45. -0.68875569454952\n",
       "46. -0.70749515696212\n",
       "47. 0.36458196213683\n",
       "48. 0.768532924515416\n",
       "49. -0.112346212150228\n",
       "50. 0.881107726454215\n",
       "51. 0.398105880367068\n",
       "52. -0.612026393250771\n",
       "53. 0.341119691424425\n",
       "54. -1.12936309608079\n",
       "55. 1.43302370170104\n",
       "56. 1.98039989850586\n",
       "57. -0.367221476466509\n",
       "58. -1.04413462631653\n",
       "59. 0.569719627442413\n",
       "60. -0.135054603880824\n",
       "61. 2.40161776050478\n",
       "62. -0.0392400027331692\n",
       "63. 0.689739362450777\n",
       "64. 0.0280021587806661\n",
       "65. -0.743273208882405\n",
       "66. 0.188792299514343\n",
       "67. -1.80495862889104\n",
       "68. 1.46555486156289\n",
       "69. 0.153253338211898\n",
       "70. 2.17261167036215\n",
       "71. 0.475509528899663\n",
       "72. -0.709946430921815\n",
       "73. 0.610726353489055\n",
       "74. -0.934097631644252\n",
       "75. -1.2536334002391\n",
       "76. 0.291446235517463\n",
       "77. -0.443291873218433\n",
       "78. 0.00110535163162413\n",
       "79. 0.0743413241516641\n",
       "80. -0.589520946188072\n",
       "81. -0.568668732818502\n",
       "82. -0.135178615123832\n",
       "83. 1.1780869965732\n",
       "84. -1.52356680042976\n",
       "85. 0.593946187628422\n",
       "86. 0.332950371213518\n",
       "87. 1.06309983727636\n",
       "88. -0.304183923634301\n",
       "89. 0.370018809916288\n",
       "90. 0.267098790772231\n",
       "91. -0.54252003099165\n",
       "92. 1.20786780598317\n",
       "93. 1.16040261569495\n",
       "94. 0.700213649514998\n",
       "95. 1.58683345454085\n",
       "96. 0.558486425565304\n",
       "97. -1.27659220845804\n",
       "98. -0.573265414236886\n",
       "99. -1.22461261489836\n",
       "100. -0.473400636439312\n",
       "\n",
       "\n"
      ],
      "text/plain": [
       "  [1] -0.626453811  0.183643324 -0.835628612  1.595280802  0.329507772\n",
       "  [6] -0.820468384  0.487429052  0.738324705  0.575781352 -0.305388387\n",
       " [11]  1.511781168  0.389843236 -0.621240581 -2.214699887  1.124930918\n",
       " [16] -0.044933609 -0.016190263  0.943836211  0.821221195  0.593901321\n",
       " [21]  0.918977372  0.782136301  0.074564983 -1.989351696  0.619825748\n",
       " [26] -0.056128740 -0.155795507 -1.470752384 -0.478150055  0.417941560\n",
       " [31]  1.358679552 -0.102787727  0.387671612 -0.053805041 -1.377059557\n",
       " [36] -0.414994563 -0.394289954 -0.059313397  1.100025372  0.763175748\n",
       " [41] -0.164523596 -0.253361680  0.696963375  0.556663199 -0.688755695\n",
       " [46] -0.707495157  0.364581962  0.768532925 -0.112346212  0.881107726\n",
       " [51]  0.398105880 -0.612026393  0.341119691 -1.129363096  1.433023702\n",
       " [56]  1.980399899 -0.367221476 -1.044134626  0.569719627 -0.135054604\n",
       " [61]  2.401617761 -0.039240003  0.689739362  0.028002159 -0.743273209\n",
       " [66]  0.188792300 -1.804958629  1.465554862  0.153253338  2.172611670\n",
       " [71]  0.475509529 -0.709946431  0.610726353 -0.934097632 -1.253633400\n",
       " [76]  0.291446236 -0.443291873  0.001105352  0.074341324 -0.589520946\n",
       " [81] -0.568668733 -0.135178615  1.178086997 -1.523566800  0.593946188\n",
       " [86]  0.332950371  1.063099837 -0.304183924  0.370018810  0.267098791\n",
       " [91] -0.542520031  1.207867806  1.160402616  0.700213650  1.586833455\n",
       " [96]  0.558486426 -1.276592208 -0.573265414 -1.224612615 -0.473400636"
      ]
     },
     "metadata": {},
     "output_type": "display_data"
    }
   ],
   "source": [
    "x"
   ]
  },
  {
   "cell_type": "code",
   "execution_count": 11,
   "id": "43ec9169",
   "metadata": {},
   "outputs": [
    {
     "data": {
      "text/html": [
       "<ol class=list-inline>\n",
       "\t<li>-2.03170924195364</li>\n",
       "\t<li>0.158309456303644</li>\n",
       "\t<li>-3.14310061671917</li>\n",
       "\t<li>-3.33653210079692</li>\n",
       "\t<li>-0.542227615476905</li>\n",
       "\t<li>-0.399517853419823</li>\n",
       "\t<li>0.728962366143029</li>\n",
       "\t<li>0.558252194216153</li>\n",
       "\t<li>0.296918379655992</li>\n",
       "\t<li>1.19026355934314</li>\n",
       "\t<li>-3.69491988806335</li>\n",
       "\t<li>-0.375756991900613</li>\n",
       "\t<li>0.0391619401760244</li>\n",
       "\t<li>-12.6751874210159</li>\n",
       "\t<li>-1.61338896664745</li>\n",
       "\t<li>-0.441779596895482</li>\n",
       "\t<li>-0.336707380885879</li>\n",
       "\t<li>-1.11693067749283</li>\n",
       "\t<li>-0.0333989761907501</li>\n",
       "\t<li>-0.288866719739903</li>\n",
       "\t<li>-1.27601890956194</li>\n",
       "\t<li>0.901700740058922</li>\n",
       "\t<li>-0.15113429867018</li>\n",
       "\t<li>-10.0839485655757</li>\n",
       "\t<li>-0.248732908825326</li>\n",
       "\t<li>0.650236696720176</li>\n",
       "\t<li>-0.277904390650796</li>\n",
       "\t<li>-5.83461170485712</li>\n",
       "\t<li>-1.61706548426503</li>\n",
       "\t<li>-0.25567900753094</li>\n",
       "\t<li>-2.27318025552277</li>\n",
       "\t<li>-0.712812847387335</li>\n",
       "\t<li>0.618589247373865</li>\n",
       "\t<li>-1.57798908715395</li>\n",
       "\t<li>-4.86308774214484</li>\n",
       "\t<li>-2.29588536197385</li>\n",
       "\t<li>-1.00619521574078</li>\n",
       "\t<li>-0.594629459215029</li>\n",
       "\t<li>-1.97218104671368</li>\n",
       "\t<li>-0.458595475457314</li>\n",
       "\t<li>-2.13301904938203</li>\n",
       "\t<li>0.794837349958867</li>\n",
       "\t<li>-1.9395249541184</li>\n",
       "\t<li>-0.526615036313904</li>\n",
       "\t<li>-2.75344461314115</li>\n",
       "\t<li>-2.45941295240528</li>\n",
       "\t<li>2.18590849353409</li>\n",
       "\t<li>-0.395357167919768</li>\n",
       "\t<li>-1.42389008535356</li>\n",
       "\t<li>-2.31219945919899</li>\n",
       "\t<li>0.531316397674047</li>\n",
       "\t<li>-1.3797388380365</li>\n",
       "\t<li>-0.209673970874409</li>\n",
       "\t<li>-4.60964724911288</li>\n",
       "\t<li>-4.16155046771433</li>\n",
       "\t<li>-6.93875991411386</li>\n",
       "\t<li>0.363104101690919</li>\n",
       "\t<li>-3.84583555685968</li>\n",
       "\t<li>-1.46386812772832</li>\n",
       "\t<li>1.69775652648394</li>\n",
       "\t<li>-8.70881759726673</li>\n",
       "\t<li>-0.2809666592752</li>\n",
       "\t<li>0.796741634931789</li>\n",
       "\t<li>0.912856568362847</li>\n",
       "\t<li>-2.46742638319825</li>\n",
       "\t<li>2.32360969934298</li>\n",
       "\t<li>-8.57573696304848</li>\n",
       "\t<li>-4.25464189315114</li>\n",
       "\t<li>-0.0381194350885023</li>\n",
       "\t<li>-7.06033293079315</li>\n",
       "\t<li>2.33126930381027</li>\n",
       "\t<li>-1.61219193258535</li>\n",
       "\t<li>0.321751801220392</li>\n",
       "\t<li>-2.75632733788758</li>\n",
       "\t<li>-4.73082764699575</li>\n",
       "\t<li>0.0868383908115858</li>\n",
       "\t<li>-0.0486676373112858</li>\n",
       "\t<li>2.07634791667945</li>\n",
       "\t<li>1.09068049796219</li>\n",
       "\t<li>-0.0766824397903272</li>\n",
       "\t<li>-2.44676040974735</li>\n",
       "\t<li>0.812170438955953</li>\n",
       "\t<li>-1.37776614275589</li>\n",
       "\t<li>-7.63332842026557</li>\n",
       "\t<li>0.409424782679888</li>\n",
       "\t<li>-0.0475161328849369</li>\n",
       "\t<li>0.267324621212103</li>\n",
       "\t<li>-1.25532164203408</li>\n",
       "\t<li>-0.334020783395991</li>\n",
       "\t<li>-0.801694234669182</li>\n",
       "\t<li>-1.30827996048255</li>\n",
       "\t<li>-1.30800968799169</li>\n",
       "\t<li>-2.26441401844803</li>\n",
       "\t<li>0.549988507562447</li>\n",
       "\t<li>-4.65733015666369</li>\n",
       "\t<li>-1.11331216232386</li>\n",
       "\t<li>-3.09480983500529</li>\n",
       "\t<li>-2.24637934986191</li>\n",
       "\t<li>-3.81199001571722</li>\n",
       "\t<li>-1.30269301271052</li>\n",
       "</ol>\n"
      ],
      "text/latex": [
       "\\begin{enumerate*}\n",
       "\\item -2.03170924195364\n",
       "\\item 0.158309456303644\n",
       "\\item -3.14310061671917\n",
       "\\item -3.33653210079692\n",
       "\\item -0.542227615476905\n",
       "\\item -0.399517853419823\n",
       "\\item 0.728962366143029\n",
       "\\item 0.558252194216153\n",
       "\\item 0.296918379655992\n",
       "\\item 1.19026355934314\n",
       "\\item -3.69491988806335\n",
       "\\item -0.375756991900613\n",
       "\\item 0.0391619401760244\n",
       "\\item -12.6751874210159\n",
       "\\item -1.61338896664745\n",
       "\\item -0.441779596895482\n",
       "\\item -0.336707380885879\n",
       "\\item -1.11693067749283\n",
       "\\item -0.0333989761907501\n",
       "\\item -0.288866719739903\n",
       "\\item -1.27601890956194\n",
       "\\item 0.901700740058922\n",
       "\\item -0.15113429867018\n",
       "\\item -10.0839485655757\n",
       "\\item -0.248732908825326\n",
       "\\item 0.650236696720176\n",
       "\\item -0.277904390650796\n",
       "\\item -5.83461170485712\n",
       "\\item -1.61706548426503\n",
       "\\item -0.25567900753094\n",
       "\\item -2.27318025552277\n",
       "\\item -0.712812847387335\n",
       "\\item 0.618589247373865\n",
       "\\item -1.57798908715395\n",
       "\\item -4.86308774214484\n",
       "\\item -2.29588536197385\n",
       "\\item -1.00619521574078\n",
       "\\item -0.594629459215029\n",
       "\\item -1.97218104671368\n",
       "\\item -0.458595475457314\n",
       "\\item -2.13301904938203\n",
       "\\item 0.794837349958867\n",
       "\\item -1.9395249541184\n",
       "\\item -0.526615036313904\n",
       "\\item -2.75344461314115\n",
       "\\item -2.45941295240528\n",
       "\\item 2.18590849353409\n",
       "\\item -0.395357167919768\n",
       "\\item -1.42389008535356\n",
       "\\item -2.31219945919899\n",
       "\\item 0.531316397674047\n",
       "\\item -1.3797388380365\n",
       "\\item -0.209673970874409\n",
       "\\item -4.60964724911288\n",
       "\\item -4.16155046771433\n",
       "\\item -6.93875991411386\n",
       "\\item 0.363104101690919\n",
       "\\item -3.84583555685968\n",
       "\\item -1.46386812772832\n",
       "\\item 1.69775652648394\n",
       "\\item -8.70881759726673\n",
       "\\item -0.2809666592752\n",
       "\\item 0.796741634931789\n",
       "\\item 0.912856568362847\n",
       "\\item -2.46742638319825\n",
       "\\item 2.32360969934298\n",
       "\\item -8.57573696304848\n",
       "\\item -4.25464189315114\n",
       "\\item -0.0381194350885023\n",
       "\\item -7.06033293079315\n",
       "\\item 2.33126930381027\n",
       "\\item -1.61219193258535\n",
       "\\item 0.321751801220392\n",
       "\\item -2.75632733788758\n",
       "\\item -4.73082764699575\n",
       "\\item 0.0868383908115858\n",
       "\\item -0.0486676373112858\n",
       "\\item 2.07634791667945\n",
       "\\item 1.09068049796219\n",
       "\\item -0.0766824397903272\n",
       "\\item -2.44676040974735\n",
       "\\item 0.812170438955953\n",
       "\\item -1.37776614275589\n",
       "\\item -7.63332842026557\n",
       "\\item 0.409424782679888\n",
       "\\item -0.0475161328849369\n",
       "\\item 0.267324621212103\n",
       "\\item -1.25532164203408\n",
       "\\item -0.334020783395991\n",
       "\\item -0.801694234669182\n",
       "\\item -1.30827996048255\n",
       "\\item -1.30800968799169\n",
       "\\item -2.26441401844803\n",
       "\\item 0.549988507562447\n",
       "\\item -4.65733015666369\n",
       "\\item -1.11331216232386\n",
       "\\item -3.09480983500529\n",
       "\\item -2.24637934986191\n",
       "\\item -3.81199001571722\n",
       "\\item -1.30269301271052\n",
       "\\end{enumerate*}\n"
      ],
      "text/markdown": [
       "1. -2.03170924195364\n",
       "2. 0.158309456303644\n",
       "3. -3.14310061671917\n",
       "4. -3.33653210079692\n",
       "5. -0.542227615476905\n",
       "6. -0.399517853419823\n",
       "7. 0.728962366143029\n",
       "8. 0.558252194216153\n",
       "9. 0.296918379655992\n",
       "10. 1.19026355934314\n",
       "11. -3.69491988806335\n",
       "12. -0.375756991900613\n",
       "13. 0.0391619401760244\n",
       "14. -12.6751874210159\n",
       "15. -1.61338896664745\n",
       "16. -0.441779596895482\n",
       "17. -0.336707380885879\n",
       "18. -1.11693067749283\n",
       "19. -0.0333989761907501\n",
       "20. -0.288866719739903\n",
       "21. -1.27601890956194\n",
       "22. 0.901700740058922\n",
       "23. -0.15113429867018\n",
       "24. -10.0839485655757\n",
       "25. -0.248732908825326\n",
       "26. 0.650236696720176\n",
       "27. -0.277904390650796\n",
       "28. -5.83461170485712\n",
       "29. -1.61706548426503\n",
       "30. -0.25567900753094\n",
       "31. -2.27318025552277\n",
       "32. -0.712812847387335\n",
       "33. 0.618589247373865\n",
       "34. -1.57798908715395\n",
       "35. -4.86308774214484\n",
       "36. -2.29588536197385\n",
       "37. -1.00619521574078\n",
       "38. -0.594629459215029\n",
       "39. -1.97218104671368\n",
       "40. -0.458595475457314\n",
       "41. -2.13301904938203\n",
       "42. 0.794837349958867\n",
       "43. -1.9395249541184\n",
       "44. -0.526615036313904\n",
       "45. -2.75344461314115\n",
       "46. -2.45941295240528\n",
       "47. 2.18590849353409\n",
       "48. -0.395357167919768\n",
       "49. -1.42389008535356\n",
       "50. -2.31219945919899\n",
       "51. 0.531316397674047\n",
       "52. -1.3797388380365\n",
       "53. -0.209673970874409\n",
       "54. -4.60964724911288\n",
       "55. -4.16155046771433\n",
       "56. -6.93875991411386\n",
       "57. 0.363104101690919\n",
       "58. -3.84583555685968\n",
       "59. -1.46386812772832\n",
       "60. 1.69775652648394\n",
       "61. -8.70881759726673\n",
       "62. -0.2809666592752\n",
       "63. 0.796741634931789\n",
       "64. 0.912856568362847\n",
       "65. -2.46742638319825\n",
       "66. 2.32360969934298\n",
       "67. -8.57573696304848\n",
       "68. -4.25464189315114\n",
       "69. -0.0381194350885023\n",
       "70. -7.06033293079315\n",
       "71. 2.33126930381027\n",
       "72. -1.61219193258535\n",
       "73. 0.321751801220392\n",
       "74. -2.75632733788758\n",
       "75. -4.73082764699575\n",
       "76. 0.0868383908115858\n",
       "77. -0.0486676373112858\n",
       "78. 2.07634791667945\n",
       "79. 1.09068049796219\n",
       "80. -0.0766824397903272\n",
       "81. -2.44676040974735\n",
       "82. 0.812170438955953\n",
       "83. -1.37776614275589\n",
       "84. -7.63332842026557\n",
       "85. 0.409424782679888\n",
       "86. -0.0475161328849369\n",
       "87. 0.267324621212103\n",
       "88. -1.25532164203408\n",
       "89. -0.334020783395991\n",
       "90. -0.801694234669182\n",
       "91. -1.30827996048255\n",
       "92. -1.30800968799169\n",
       "93. -2.26441401844803\n",
       "94. 0.549988507562447\n",
       "95. -4.65733015666369\n",
       "96. -1.11331216232386\n",
       "97. -3.09480983500529\n",
       "98. -2.24637934986191\n",
       "99. -3.81199001571722\n",
       "100. -1.30269301271052\n",
       "\n",
       "\n"
      ],
      "text/plain": [
       "  [1]  -2.03170924   0.15830946  -3.14310062  -3.33653210  -0.54222762\n",
       "  [6]  -0.39951785   0.72896237   0.55825219   0.29691838   1.19026356\n",
       " [11]  -3.69491989  -0.37575699   0.03916194 -12.67518742  -1.61338897\n",
       " [16]  -0.44177960  -0.33670738  -1.11693068  -0.03339898  -0.28886672\n",
       " [21]  -1.27601891   0.90170074  -0.15113430 -10.08394857  -0.24873291\n",
       " [26]   0.65023670  -0.27790439  -5.83461170  -1.61706548  -0.25567901\n",
       " [31]  -2.27318026  -0.71281285   0.61858925  -1.57798909  -4.86308774\n",
       " [36]  -2.29588536  -1.00619522  -0.59462946  -1.97218105  -0.45859548\n",
       " [41]  -2.13301905   0.79483735  -1.93952495  -0.52661504  -2.75344461\n",
       " [46]  -2.45941295   2.18590849  -0.39535717  -1.42389009  -2.31219946\n",
       " [51]   0.53131640  -1.37973884  -0.20967397  -4.60964725  -4.16155047\n",
       " [56]  -6.93875991   0.36310410  -3.84583556  -1.46386813   1.69775653\n",
       " [61]  -8.70881760  -0.28096666   0.79674163   0.91285657  -2.46742638\n",
       " [66]   2.32360970  -8.57573696  -4.25464189  -0.03811944  -7.06033293\n",
       " [71]   2.33126930  -1.61219193   0.32175180  -2.75632734  -4.73082765\n",
       " [76]   0.08683839  -0.04866764   2.07634792   1.09068050  -0.07668244\n",
       " [81]  -2.44676041   0.81217044  -1.37776614  -7.63332842   0.40942478\n",
       " [86]  -0.04751613   0.26732462  -1.25532164  -0.33402078  -0.80169423\n",
       " [91]  -1.30827996  -1.30800969  -2.26441402   0.54998851  -4.65733016\n",
       " [96]  -1.11331216  -3.09480984  -2.24637935  -3.81199002  -1.30269301"
      ]
     },
     "metadata": {},
     "output_type": "display_data"
    }
   ],
   "source": [
    "y"
   ]
  },
  {
   "cell_type": "code",
   "execution_count": 12,
   "id": "e8531942",
   "metadata": {},
   "outputs": [],
   "source": [
    "# n is 100, p is 1"
   ]
  },
  {
   "cell_type": "code",
   "execution_count": 15,
   "id": "2c4ce515",
   "metadata": {},
   "outputs": [],
   "source": [
    "# b"
   ]
  },
  {
   "cell_type": "code",
   "execution_count": 23,
   "id": "89869caa",
   "metadata": {},
   "outputs": [
    {
     "data": {
      "image/png": "[encoded data removed]",
      "text/plain": [
       "plot without title"
      ]
     },
     "metadata": {},
     "output_type": "display_data"
    }
   ],
   "source": [
    "plot(x,y)\n",
    "# y is a parabola function of x"
   ]
  },
  {
   "cell_type": "code",
   "execution_count": 24,
   "id": "cc852abe",
   "metadata": {},
   "outputs": [],
   "source": [
    "# c"
   ]
  },
  {
   "cell_type": "code",
   "execution_count": 33,
   "id": "a7ae46b2",
   "metadata": {},
   "outputs": [],
   "source": [
    "library(boot)"
   ]
  },
  {
   "cell_type": "code",
   "execution_count": 26,
   "id": "53b92a3b",
   "metadata": {},
   "outputs": [],
   "source": [
    "df = data.frame(x,y)"
   ]
  },
  {
   "cell_type": "code",
   "execution_count": 47,
   "id": "93ff1473",
   "metadata": {},
   "outputs": [],
   "source": [
    "cv.error = rep(0,4)"
   ]
  },
  {
   "cell_type": "code",
   "execution_count": 48,
   "id": "8aa93b4e",
   "metadata": {},
   "outputs": [],
   "source": [
    "glm.fit = glm(y~poly(x,1),data=df)"
   ]
  },
  {
   "cell_type": "code",
   "execution_count": 49,
   "id": "8452392a",
   "metadata": {},
   "outputs": [],
   "source": [
    "cv.error[1]=cv.glm(df,glm.fit)$delta[1]"
   ]
  },
  {
   "cell_type": "code",
   "execution_count": 50,
   "id": "3d82b80e",
   "metadata": {},
   "outputs": [
    {
     "data": {
      "text/html": [
       "<ol class=list-inline>\n",
       "\t<li>7.28816160667281</li>\n",
       "\t<li>0</li>\n",
       "\t<li>0</li>\n",
       "\t<li>0</li>\n",
       "</ol>\n"
      ],
      "text/latex": [
       "\\begin{enumerate*}\n",
       "\\item 7.28816160667281\n",
       "\\item 0\n",
       "\\item 0\n",
       "\\item 0\n",
       "\\end{enumerate*}\n"
      ],
      "text/markdown": [
       "1. 7.28816160667281\n",
       "2. 0\n",
       "3. 0\n",
       "4. 0\n",
       "\n",
       "\n"
      ],
      "text/plain": [
       "[1] 7.288162 0.000000 0.000000 0.000000"
      ]
     },
     "metadata": {},
     "output_type": "display_data"
    }
   ],
   "source": [
    "cv.error"
   ]
  },
  {
   "cell_type": "code",
   "execution_count": 51,
   "id": "f8a8a604",
   "metadata": {},
   "outputs": [],
   "source": [
    "glm.fit = glm(y~poly(x,2),data=df)"
   ]
  },
  {
   "cell_type": "code",
   "execution_count": 52,
   "id": "eafa7cf5",
   "metadata": {},
   "outputs": [],
   "source": [
    "cv.error[2]=cv.glm(df,glm.fit)$delta[1]"
   ]
  },
  {
   "cell_type": "code",
   "execution_count": 53,
   "id": "ed58fa60",
   "metadata": {},
   "outputs": [
    {
     "data": {
      "text/html": [
       "<ol class=list-inline>\n",
       "\t<li>7.28816160667281</li>\n",
       "\t<li>0.937423637615552</li>\n",
       "\t<li>0</li>\n",
       "\t<li>0</li>\n",
       "</ol>\n"
      ],
      "text/latex": [
       "\\begin{enumerate*}\n",
       "\\item 7.28816160667281\n",
       "\\item 0.937423637615552\n",
       "\\item 0\n",
       "\\item 0\n",
       "\\end{enumerate*}\n"
      ],
      "text/markdown": [
       "1. 7.28816160667281\n",
       "2. 0.937423637615552\n",
       "3. 0\n",
       "4. 0\n",
       "\n",
       "\n"
      ],
      "text/plain": [
       "[1] 7.2881616 0.9374236 0.0000000 0.0000000"
      ]
     },
     "metadata": {},
     "output_type": "display_data"
    }
   ],
   "source": [
    "cv.error"
   ]
  },
  {
   "cell_type": "code",
   "execution_count": 54,
   "id": "a72e9cf6",
   "metadata": {},
   "outputs": [
    {
     "data": {
      "text/html": [
       "<ol class=list-inline>\n",
       "\t<li>7.28816160667281</li>\n",
       "\t<li>0.937423637615552</li>\n",
       "\t<li>0.956621830108939</li>\n",
       "\t<li>0</li>\n",
       "</ol>\n"
      ],
      "text/latex": [
       "\\begin{enumerate*}\n",
       "\\item 7.28816160667281\n",
       "\\item 0.937423637615552\n",
       "\\item 0.956621830108939\n",
       "\\item 0\n",
       "\\end{enumerate*}\n"
      ],
      "text/markdown": [
       "1. 7.28816160667281\n",
       "2. 0.937423637615552\n",
       "3. 0.956621830108939\n",
       "4. 0\n",
       "\n",
       "\n"
      ],
      "text/plain": [
       "[1] 7.2881616 0.9374236 0.9566218 0.0000000"
      ]
     },
     "metadata": {},
     "output_type": "display_data"
    }
   ],
   "source": [
    "glm.fit = glm(y~poly(x,3),data=df)\n",
    "cv.error[3]=cv.glm(df,glm.fit)$delta[1]\n",
    "cv.error"
   ]
  },
  {
   "cell_type": "code",
   "execution_count": 55,
   "id": "cef30cbe",
   "metadata": {},
   "outputs": [
    {
     "data": {
      "text/html": [
       "<ol class=list-inline>\n",
       "\t<li>7.28816160667281</li>\n",
       "\t<li>0.937423637615552</li>\n",
       "\t<li>0.956621830108939</li>\n",
       "\t<li>0.953904892744803</li>\n",
       "</ol>\n"
      ],
      "text/latex": [
       "\\begin{enumerate*}\n",
       "\\item 7.28816160667281\n",
       "\\item 0.937423637615552\n",
       "\\item 0.956621830108939\n",
       "\\item 0.953904892744803\n",
       "\\end{enumerate*}\n"
      ],
      "text/markdown": [
       "1. 7.28816160667281\n",
       "2. 0.937423637615552\n",
       "3. 0.956621830108939\n",
       "4. 0.953904892744803\n",
       "\n",
       "\n"
      ],
      "text/plain": [
       "[1] 7.2881616 0.9374236 0.9566218 0.9539049"
      ]
     },
     "metadata": {},
     "output_type": "display_data"
    }
   ],
   "source": [
    "glm.fit = glm(y~poly(x,4),data=df)\n",
    "cv.error[4]=cv.glm(df,glm.fit)$delta[1]\n",
    "cv.error"
   ]
  },
  {
   "cell_type": "code",
   "execution_count": 56,
   "id": "81bec859",
   "metadata": {},
   "outputs": [],
   "source": [
    "# d"
   ]
  },
  {
   "cell_type": "code",
   "execution_count": 57,
   "id": "433c59cf",
   "metadata": {},
   "outputs": [],
   "source": [
    "set.seed(2)\n",
    "x=rnorm(100)\n",
    "y=x-2*x^2+rnorm(100)"
   ]
  },
  {
   "cell_type": "code",
   "execution_count": 58,
   "id": "2a539ee2",
   "metadata": {},
   "outputs": [],
   "source": [
    "df = data.frame(x,y)"
   ]
  },
  {
   "cell_type": "code",
   "execution_count": 59,
   "id": "a599e889",
   "metadata": {},
   "outputs": [],
   "source": [
    "cv.error = rep(0,4)"
   ]
  },
  {
   "cell_type": "code",
   "execution_count": 60,
   "id": "ffd3ee9f",
   "metadata": {},
   "outputs": [
    {
     "data": {
      "text/html": [
       "<ol class=list-inline>\n",
       "\t<li>9.85830088063719</li>\n",
       "\t<li>1.00440988136783</li>\n",
       "\t<li>1.01802952551981</li>\n",
       "\t<li>1.0356012874438</li>\n",
       "</ol>\n"
      ],
      "text/latex": [
       "\\begin{enumerate*}\n",
       "\\item 9.85830088063719\n",
       "\\item 1.00440988136783\n",
       "\\item 1.01802952551981\n",
       "\\item 1.0356012874438\n",
       "\\end{enumerate*}\n"
      ],
      "text/markdown": [
       "1. 9.85830088063719\n",
       "2. 1.00440988136783\n",
       "3. 1.01802952551981\n",
       "4. 1.0356012874438\n",
       "\n",
       "\n"
      ],
      "text/plain": [
       "[1] 9.858301 1.004410 1.018030 1.035601"
      ]
     },
     "metadata": {},
     "output_type": "display_data"
    }
   ],
   "source": [
    "glm.fit = glm(y~poly(x,1),data=df)\n",
    "cv.error[1]=cv.glm(df,glm.fit)$delta[1]\n",
    "glm.fit = glm(y~poly(x,2),data=df)\n",
    "cv.error[2]=cv.glm(df,glm.fit)$delta[1]\n",
    "glm.fit = glm(y~poly(x,3),data=df)\n",
    "cv.error[3]=cv.glm(df,glm.fit)$delta[1]\n",
    "glm.fit = glm(y~poly(x,4),data=df)\n",
    "cv.error[4]=cv.glm(df,glm.fit)$delta[1]\n",
    "\n",
    "cv.error"
   ]
  },
  {
   "cell_type": "code",
   "execution_count": 61,
   "id": "292b9c5d",
   "metadata": {},
   "outputs": [],
   "source": [
    "# e\n",
    "# ii had the smallest LOOCV error\n",
    "# It is expected, as the original function is to the second degree, this is why the smallest error is found using this model"
   ]
  },
  {
   "cell_type": "code",
   "execution_count": 62,
   "id": "72719f39",
   "metadata": {},
   "outputs": [],
   "source": [
    "# f\n",
    "# There is a sharp drop in the estimated test MSE between the linear and quadratic fits\n",
    "# The improvement from using higher-order polynomials is very small and possibly statistically insignificant"
   ]
  },
  {
   "cell_type": "code",
   "execution_count": 66,
   "id": "72e63c6a",
   "metadata": {},
   "outputs": [],
   "source": [
    "# Chapter 6\n",
    "# 1\n",
    "# a"
   ]
  },
  {
   "cell_type": "code",
   "execution_count": null,
   "id": "74834afa",
   "metadata": {},
   "outputs": [],
   "source": [
    "# When performing best subset selection, the model with k predictors is the model with the smallest RSS among all the Ckp models with k predictors. When performing forward stepwise selection, the model with k predictors is the model with the smallest RSS among the p−k models which augment the predictors in Mk−1 with one additional predictor. When performing backward stepwise selection, the model with k predictors is the model with the smallest RSS among the k models which contains all but one of the predictors in Mk+1. \n",
    "# Therefore, the model with k predictors which has the smallest training RSS is the one obtained from best subset selection as it is the one selected among all k predictors models.\n"
   ]
  },
  {
   "cell_type": "code",
   "execution_count": 67,
   "id": "cffd0f77",
   "metadata": {},
   "outputs": [],
   "source": [
    "# b"
   ]
  },
  {
   "cell_type": "code",
   "execution_count": null,
   "id": "d2e6d5c5",
   "metadata": {},
   "outputs": [],
   "source": [
    "# It depends on the specific situation and dataset, we do not know which model may provide the smallest test RSS"
   ]
  },
  {
   "cell_type": "code",
   "execution_count": 64,
   "id": "57d6b33c",
   "metadata": {},
   "outputs": [],
   "source": [
    "# c"
   ]
  },
  {
   "cell_type": "code",
   "execution_count": 65,
   "id": "a1cda19d",
   "metadata": {},
   "outputs": [],
   "source": [
    "# i. True\n",
    "# ii. True\n",
    "# iii. False; There is no direct link between the models obtained from forward and backward selection.\n",
    "# iv. False\n",
    "# v. False; The model with (k+1) predictors is obtained by selecting among all possible models with (k+1) predictors, and so does not necessarily contain all the predictors selected for the k-variable model."
   ]
  },
  {
   "cell_type": "code",
   "execution_count": 69,
   "id": "78ac3472",
   "metadata": {},
   "outputs": [],
   "source": [
    "# 9\n",
    "# a"
   ]
  },
  {
   "cell_type": "code",
   "execution_count": 126,
   "id": "7f0a134b",
   "metadata": {},
   "outputs": [],
   "source": [
    "library(ISLR)\n",
    "data(College)\n",
    "set.seed(1)\n",
    "train = sample(1:dim(College)[1], dim(College)[1] / 2)\n",
    "test <- -train\n",
    "College.train <- College[train, ]\n",
    "College.test <- College[test, ]"
   ]
  },
  {
   "cell_type": "code",
   "execution_count": 71,
   "id": "36817ee5",
   "metadata": {},
   "outputs": [],
   "source": [
    "# b"
   ]
  },
  {
   "cell_type": "code",
   "execution_count": 72,
   "id": "52a8a24e",
   "metadata": {},
   "outputs": [
    {
     "data": {
      "text/html": [
       "1026095.92589411"
      ],
      "text/latex": [
       "1026095.92589411"
      ],
      "text/markdown": [
       "1026095.92589411"
      ],
      "text/plain": [
       "[1] 1026096"
      ]
     },
     "metadata": {},
     "output_type": "display_data"
    }
   ],
   "source": [
    "fit.lm <- lm(Apps ~ ., data = College.train)\n",
    "pred.lm <- predict(fit.lm, College.test)\n",
    "mean((pred.lm - College.test$Apps)^2)"
   ]
  },
  {
   "cell_type": "code",
   "execution_count": 73,
   "id": "09ae4ded",
   "metadata": {},
   "outputs": [],
   "source": [
    "# c"
   ]
  },
  {
   "cell_type": "code",
   "execution_count": 75,
   "id": "dbc8ca24",
   "metadata": {},
   "outputs": [
    {
     "name": "stderr",
     "output_type": "stream",
     "text": [
      "Loading required package: Matrix\n",
      "Loading required package: foreach\n",
      "Loaded glmnet 2.0-16\n",
      "\n"
     ]
    }
   ],
   "source": [
    "library(glmnet)"
   ]
  },
  {
   "cell_type": "code",
   "execution_count": 76,
   "id": "17bbf131",
   "metadata": {},
   "outputs": [
    {
     "data": {
      "text/html": [
       "0.01"
      ],
      "text/latex": [
       "0.01"
      ],
      "text/markdown": [
       "0.01"
      ],
      "text/plain": [
       "[1] 0.01"
      ]
     },
     "metadata": {},
     "output_type": "display_data"
    }
   ],
   "source": [
    "train.mat <- model.matrix(Apps ~ ., data = College.train)\n",
    "test.mat <- model.matrix(Apps ~ ., data = College.test)\n",
    "grid <- 10 ^ seq(4, -2, length = 100)\n",
    "fit.ridge <- glmnet(train.mat, College.train$Apps, alpha = 0, lambda = grid, thresh = 1e-12)\n",
    "cv.ridge <- cv.glmnet(train.mat, College.train$Apps, alpha = 0, lambda = grid, thresh = 1e-12)\n",
    "bestlam.ridge <- cv.ridge$lambda.min\n",
    "bestlam.ridge"
   ]
  },
  {
   "cell_type": "code",
   "execution_count": 77,
   "id": "892ec67e",
   "metadata": {},
   "outputs": [
    {
     "data": {
      "text/html": [
       "1026068.65314469"
      ],
      "text/latex": [
       "1026068.65314469"
      ],
      "text/markdown": [
       "1026068.65314469"
      ],
      "text/plain": [
       "[1] 1026069"
      ]
     },
     "metadata": {},
     "output_type": "display_data"
    }
   ],
   "source": [
    "pred.ridge <- predict(fit.ridge, s = bestlam.ridge, newx = test.mat)\n",
    "mean((pred.ridge - College.test$Apps)^2)"
   ]
  },
  {
   "cell_type": "code",
   "execution_count": 78,
   "id": "615db830",
   "metadata": {},
   "outputs": [],
   "source": [
    "# d"
   ]
  },
  {
   "cell_type": "code",
   "execution_count": 79,
   "id": "32064d61",
   "metadata": {},
   "outputs": [
    {
     "data": {
      "text/html": [
       "0.01"
      ],
      "text/latex": [
       "0.01"
      ],
      "text/markdown": [
       "0.01"
      ],
      "text/plain": [
       "[1] 0.01"
      ]
     },
     "metadata": {},
     "output_type": "display_data"
    }
   ],
   "source": [
    "fit.lasso <- glmnet(train.mat, College.train$Apps, alpha = 1, lambda = grid, thresh = 1e-12)\n",
    "cv.lasso <- cv.glmnet(train.mat, College.train$Apps, alpha = 1, lambda = grid, thresh = 1e-12)\n",
    "bestlam.lasso <- cv.lasso$lambda.min\n",
    "bestlam.lasso"
   ]
  },
  {
   "cell_type": "code",
   "execution_count": 80,
   "id": "4e8db99e",
   "metadata": {},
   "outputs": [
    {
     "data": {
      "text/html": [
       "1026035.85789427"
      ],
      "text/latex": [
       "1026035.85789427"
      ],
      "text/markdown": [
       "1026035.85789427"
      ],
      "text/plain": [
       "[1] 1026036"
      ]
     },
     "metadata": {},
     "output_type": "display_data"
    }
   ],
   "source": [
    "pred.lasso <- predict(fit.lasso, s = bestlam.lasso, newx = test.mat)\n",
    "mean((pred.lasso - College.test$Apps)^2)"
   ]
  },
  {
   "cell_type": "code",
   "execution_count": 81,
   "id": "d4d5d18e",
   "metadata": {},
   "outputs": [
    {
     "data": {
      "text/plain": [
       "19 x 1 sparse Matrix of class \"dgCMatrix\"\n",
       "                        1\n",
       "(Intercept)   37.86520037\n",
       "(Intercept)    .         \n",
       "PrivateYes  -551.14946609\n",
       "Accept         1.74980812\n",
       "Enroll        -1.36005786\n",
       "Top10perc     65.55655577\n",
       "Top25perc    -22.52640339\n",
       "F.Undergrad    0.10181853\n",
       "P.Undergrad    0.01789131\n",
       "Outstate      -0.08706371\n",
       "Room.Board     0.15384585\n",
       "Books         -0.12227313\n",
       "Personal       0.16194591\n",
       "PhD          -14.29638634\n",
       "Terminal      -1.03118224\n",
       "S.F.Ratio      4.47956819\n",
       "perc.alumni   -0.45456280\n",
       "Expend         0.05618050\n",
       "Grad.Rate      9.07242834"
      ]
     },
     "metadata": {},
     "output_type": "display_data"
    }
   ],
   "source": [
    "predict(fit.lasso, s = bestlam.lasso, type = \"coefficients\")"
   ]
  },
  {
   "cell_type": "code",
   "execution_count": 82,
   "id": "ce5b38f7",
   "metadata": {},
   "outputs": [],
   "source": [
    "# e"
   ]
  },
  {
   "cell_type": "code",
   "execution_count": 83,
   "id": "0c2ff68d",
   "metadata": {},
   "outputs": [
    {
     "name": "stderr",
     "output_type": "stream",
     "text": [
      "\n",
      "Attaching package: 'pls'\n",
      "\n",
      "The following object is masked from 'package:stats':\n",
      "\n",
      "    loadings\n",
      "\n"
     ]
    }
   ],
   "source": [
    "library(pls)"
   ]
  },
  {
   "cell_type": "code",
   "execution_count": 84,
   "id": "d4b9705a",
   "metadata": {},
   "outputs": [
    {
     "data": {
      "image/png": "[encoded data removed]",
      "text/plain": [
       "Plot with title \"Apps\""
      ]
     },
     "metadata": {},
     "output_type": "display_data"
    }
   ],
   "source": [
    "fit.pcr <- pcr(Apps ~ ., data = College.train, scale = TRUE, validation = \"CV\")\n",
    "validationplot(fit.pcr, val.type = \"MSEP\")"
   ]
  },
  {
   "cell_type": "code",
   "execution_count": 85,
   "id": "54f6f036",
   "metadata": {},
   "outputs": [
    {
     "data": {
      "text/html": [
       "1867486.04890402"
      ],
      "text/latex": [
       "1867486.04890402"
      ],
      "text/markdown": [
       "1867486.04890402"
      ],
      "text/plain": [
       "[1] 1867486"
      ]
     },
     "metadata": {},
     "output_type": "display_data"
    }
   ],
   "source": [
    "pred.pcr <- predict(fit.pcr, College.test, ncomp = 10)\n",
    "mean((pred.pcr - College.test$Apps)^2)"
   ]
  },
  {
   "cell_type": "code",
   "execution_count": 86,
   "id": "b05f0a79",
   "metadata": {},
   "outputs": [],
   "source": [
    "# f"
   ]
  },
  {
   "cell_type": "code",
   "execution_count": 87,
   "id": "0db4a40b",
   "metadata": {},
   "outputs": [
    {
     "data": {
      "image/png": "[encoded data removed]",
      "text/plain": [
       "Plot with title \"Apps\""
      ]
     },
     "metadata": {},
     "output_type": "display_data"
    }
   ],
   "source": [
    "fit.pls <- plsr(Apps ~ ., data = College.train, scale = TRUE, validation = \"CV\")\n",
    "validationplot(fit.pls, val.type = \"MSEP\")"
   ]
  },
  {
   "cell_type": "code",
   "execution_count": 88,
   "id": "454bd2ac",
   "metadata": {},
   "outputs": [
    {
     "data": {
      "text/html": [
       "1031287.46622274"
      ],
      "text/latex": [
       "1031287.46622274"
      ],
      "text/markdown": [
       "1031287.46622274"
      ],
      "text/plain": [
       "[1] 1031287"
      ]
     },
     "metadata": {},
     "output_type": "display_data"
    }
   ],
   "source": [
    "pred.pls <- predict(fit.pls, College.test, ncomp = 10)\n",
    "mean((pred.pls - College.test$Apps)^2)"
   ]
  },
  {
   "cell_type": "code",
   "execution_count": 89,
   "id": "5443e624",
   "metadata": {},
   "outputs": [],
   "source": [
    "# g"
   ]
  },
  {
   "cell_type": "code",
   "execution_count": 90,
   "id": "30396b79",
   "metadata": {},
   "outputs": [],
   "source": [
    "test.avg <- mean(College.test$Apps)\n",
    "lm.r2 <- 1 - mean((pred.lm - College.test$Apps)^2) / mean((test.avg - College.test$Apps)^2)\n",
    "ridge.r2 <- 1 - mean((pred.ridge - College.test$Apps)^2) / mean((test.avg - College.test$Apps)^2)\n",
    "lasso.r2 <- 1 - mean((pred.lasso - College.test$Apps)^2) / mean((test.avg - College.test$Apps)^2)\n",
    "pcr.r2 <- 1 - mean((pred.pcr - College.test$Apps)^2) / mean((test.avg - College.test$Apps)^2)\n",
    "pls.r2 <- 1 - mean((pred.pls - College.test$Apps)^2) / mean((test.avg - College.test$Apps)^2)"
   ]
  },
  {
   "cell_type": "code",
   "execution_count": 91,
   "id": "d950fd7e",
   "metadata": {},
   "outputs": [],
   "source": [
    "# chapter 7\n",
    "# 9\n",
    "# a"
   ]
  },
  {
   "cell_type": "code",
   "execution_count": 128,
   "id": "26233359",
   "metadata": {},
   "outputs": [],
   "source": [
    "library(MASS)"
   ]
  },
  {
   "cell_type": "code",
   "execution_count": 129,
   "id": "1fc9fb73",
   "metadata": {},
   "outputs": [
    {
     "data": {
      "text/plain": [
       "\n",
       "Call:\n",
       "lm(formula = nox ~ poly(dis, 3), data = Boston)\n",
       "\n",
       "Residuals:\n",
       "      Min        1Q    Median        3Q       Max \n",
       "-0.121130 -0.040619 -0.009738  0.023385  0.194904 \n",
       "\n",
       "Coefficients:\n",
       "               Estimate Std. Error t value Pr(>|t|)    \n",
       "(Intercept)    0.554695   0.002759 201.021  < 2e-16 ***\n",
       "poly(dis, 3)1 -2.003096   0.062071 -32.271  < 2e-16 ***\n",
       "poly(dis, 3)2  0.856330   0.062071  13.796  < 2e-16 ***\n",
       "poly(dis, 3)3 -0.318049   0.062071  -5.124 4.27e-07 ***\n",
       "---\n",
       "Signif. codes:  0 '***' 0.001 '**' 0.01 '*' 0.05 '.' 0.1 ' ' 1\n",
       "\n",
       "Residual standard error: 0.06207 on 502 degrees of freedom\n",
       "Multiple R-squared:  0.7148,\tAdjusted R-squared:  0.7131 \n",
       "F-statistic: 419.3 on 3 and 502 DF,  p-value: < 2.2e-16\n"
      ]
     },
     "metadata": {},
     "output_type": "display_data"
    }
   ],
   "source": [
    "set.seed(1)\n",
    "fit <- lm(nox ~ poly(dis, 3), data = Boston)\n",
    "summary(fit)"
   ]
  },
  {
   "cell_type": "code",
   "execution_count": 130,
   "id": "f2ebbd1a",
   "metadata": {},
   "outputs": [
    {
     "data": {
      "image/png": "[encoded data removed]",
      "text/plain": [
       "plot without title"
      ]
     },
     "metadata": {},
     "output_type": "display_data"
    }
   ],
   "source": [
    "disrange <- range(Boston$dis)\n",
    "dis.grid <- seq(from = disrange[1], to = disrange[2], by = 0.1)\n",
    "preds <- predict(fit, list(dis = dis.grid))\n",
    "plot(nox ~ dis, data = Boston, col = \"darkgrey\")\n",
    "lines(dis.grid, preds, col = \"red\", lwd = 2)"
   ]
  },
  {
   "cell_type": "code",
   "execution_count": 94,
   "id": "50386fb7",
   "metadata": {},
   "outputs": [],
   "source": [
    "# b"
   ]
  },
  {
   "cell_type": "code",
   "execution_count": 95,
   "id": "d614a67d",
   "metadata": {},
   "outputs": [
    {
     "data": {
      "image/png": "[encoded data removed]",
      "text/plain": [
       "plot without title"
      ]
     },
     "metadata": {},
     "output_type": "display_data"
    }
   ],
   "source": [
    "rss <- rep(NA, 10)\n",
    "for (i in 1:10) {\n",
    "    fit <- lm(nox ~ poly(dis, i), data = Boston)\n",
    "    rss[i] <- sum(fit$residuals^2)\n",
    "}\n",
    "plot(1:10, rss, xlab = \"Degree\", ylab = \"RSS\", type = \"l\")"
   ]
  },
  {
   "cell_type": "code",
   "execution_count": 96,
   "id": "918f32f7",
   "metadata": {},
   "outputs": [],
   "source": [
    "# c"
   ]
  },
  {
   "cell_type": "code",
   "execution_count": 97,
   "id": "eeb3401c",
   "metadata": {},
   "outputs": [
    {
     "data": {
      "image/png": "[encoded data removed]",
      "text/plain": [
       "plot without title"
      ]
     },
     "metadata": {},
     "output_type": "display_data"
    }
   ],
   "source": [
    "deltas <- rep(NA, 10)\n",
    "for (i in 1:10) {\n",
    "    fit <- glm(nox ~ poly(dis, i), data = Boston)\n",
    "    deltas[i] <- cv.glm(Boston, fit, K = 10)$delta[1]\n",
    "}\n",
    "plot(1:10, deltas, xlab = \"Degree\", ylab = \"Test MSE\", type = \"l\")"
   ]
  },
  {
   "cell_type": "code",
   "execution_count": 100,
   "id": "3b1bfb30",
   "metadata": {},
   "outputs": [],
   "source": [
    "# d"
   ]
  },
  {
   "cell_type": "code",
   "execution_count": 101,
   "id": "d2761715",
   "metadata": {},
   "outputs": [],
   "source": [
    "library(splines)"
   ]
  },
  {
   "cell_type": "code",
   "execution_count": 102,
   "id": "fad8d191",
   "metadata": {},
   "outputs": [
    {
     "data": {
      "text/plain": [
       "\n",
       "Call:\n",
       "lm(formula = nox ~ bs(dis, knots = c(4, 7, 11)), data = Boston)\n",
       "\n",
       "Residuals:\n",
       "      Min        1Q    Median        3Q       Max \n",
       "-0.124567 -0.040355 -0.008702  0.024740  0.192920 \n",
       "\n",
       "Coefficients:\n",
       "                              Estimate Std. Error t value Pr(>|t|)    \n",
       "(Intercept)                    0.73926    0.01331  55.537  < 2e-16 ***\n",
       "bs(dis, knots = c(4, 7, 11))1 -0.08861    0.02504  -3.539  0.00044 ***\n",
       "bs(dis, knots = c(4, 7, 11))2 -0.31341    0.01680 -18.658  < 2e-16 ***\n",
       "bs(dis, knots = c(4, 7, 11))3 -0.26618    0.03147  -8.459 3.00e-16 ***\n",
       "bs(dis, knots = c(4, 7, 11))4 -0.39802    0.04647  -8.565  < 2e-16 ***\n",
       "bs(dis, knots = c(4, 7, 11))5 -0.25681    0.09001  -2.853  0.00451 ** \n",
       "bs(dis, knots = c(4, 7, 11))6 -0.32926    0.06327  -5.204 2.85e-07 ***\n",
       "---\n",
       "Signif. codes:  0 '***' 0.001 '**' 0.01 '*' 0.05 '.' 0.1 ' ' 1\n",
       "\n",
       "Residual standard error: 0.06185 on 499 degrees of freedom\n",
       "Multiple R-squared:  0.7185,\tAdjusted R-squared:  0.7151 \n",
       "F-statistic: 212.3 on 6 and 499 DF,  p-value: < 2.2e-16\n"
      ]
     },
     "metadata": {},
     "output_type": "display_data"
    }
   ],
   "source": [
    "fit <- lm(nox ~ bs(dis, knots = c(4, 7, 11)), data = Boston)\n",
    "summary(fit)"
   ]
  },
  {
   "cell_type": "code",
   "execution_count": 103,
   "id": "8e85d495",
   "metadata": {},
   "outputs": [
    {
     "data": {
      "image/png": "[encoded data removed]",
      "text/plain": [
       "plot without title"
      ]
     },
     "metadata": {},
     "output_type": "display_data"
    }
   ],
   "source": [
    "pred <- predict(fit, list(dis = dis.grid))\n",
    "plot(nox ~ dis, data = Boston, col = \"darkgrey\")\n",
    "lines(dis.grid, preds, col = \"red\", lwd = 2)"
   ]
  },
  {
   "cell_type": "code",
   "execution_count": 104,
   "id": "2a3be9ce",
   "metadata": {},
   "outputs": [],
   "source": [
    "# e"
   ]
  },
  {
   "cell_type": "code",
   "execution_count": 105,
   "id": "81339e80",
   "metadata": {},
   "outputs": [
    {
     "data": {
      "image/png": "[encoded data removed]",
      "text/plain": [
       "plot without title"
      ]
     },
     "metadata": {},
     "output_type": "display_data"
    }
   ],
   "source": [
    "rss <- rep(NA, 16)\n",
    "for (i in 3:16) {\n",
    "    fit <- lm(nox ~ bs(dis, df = i), data = Boston)\n",
    "    rss[i] <- sum(fit$residuals^2)\n",
    "}\n",
    "plot(3:16, rss[-c(1, 2)], xlab = \"Degrees of freedom\", ylab = \"RSS\", type = \"l\")"
   ]
  },
  {
   "cell_type": "code",
   "execution_count": 106,
   "id": "8ebd2b3c",
   "metadata": {},
   "outputs": [],
   "source": [
    "# f"
   ]
  },
  {
   "cell_type": "code",
   "execution_count": 107,
   "id": "09256ca8",
   "metadata": {},
   "outputs": [
    {
     "name": "stderr",
     "output_type": "stream",
     "text": [
      "Warning message in bs(dis, degree = 3L, knots = numeric(0), Boundary.knots = c(1.1296, :\n",
      "\"some 'x' values beyond boundary knots may cause ill-conditioned bases\"Warning message in bs(dis, degree = 3L, knots = numeric(0), Boundary.knots = c(1.1296, :\n",
      "\"some 'x' values beyond boundary knots may cause ill-conditioned bases\"Warning message in bs(dis, degree = 3L, knots = numeric(0), Boundary.knots = c(1.137, :\n",
      "\"some 'x' values beyond boundary knots may cause ill-conditioned bases\"Warning message in bs(dis, degree = 3L, knots = numeric(0), Boundary.knots = c(1.137, :\n",
      "\"some 'x' values beyond boundary knots may cause ill-conditioned bases\"Warning message in bs(dis, degree = 3L, knots = c(`50%` = 3.0992), Boundary.knots = c(1.137, :\n",
      "\"some 'x' values beyond boundary knots may cause ill-conditioned bases\"Warning message in bs(dis, degree = 3L, knots = c(`50%` = 3.0992), Boundary.knots = c(1.137, :\n",
      "\"some 'x' values beyond boundary knots may cause ill-conditioned bases\"Warning message in bs(dis, degree = 3L, knots = c(`50%` = 3.2157), Boundary.knots = c(1.1296, :\n",
      "\"some 'x' values beyond boundary knots may cause ill-conditioned bases\"Warning message in bs(dis, degree = 3L, knots = c(`50%` = 3.2157), Boundary.knots = c(1.1296, :\n",
      "\"some 'x' values beyond boundary knots may cause ill-conditioned bases\"Warning message in bs(dis, degree = 3L, knots = c(`33.33333%` = 2.354, `66.66667%` = 4.2474:\n",
      "\"some 'x' values beyond boundary knots may cause ill-conditioned bases\"Warning message in bs(dis, degree = 3L, knots = c(`33.33333%` = 2.354, `66.66667%` = 4.2474:\n",
      "\"some 'x' values beyond boundary knots may cause ill-conditioned bases\"Warning message in bs(dis, degree = 3L, knots = c(`33.33333%` = 2.4212, `66.66667%` = 4.38856666666667:\n",
      "\"some 'x' values beyond boundary knots may cause ill-conditioned bases\"Warning message in bs(dis, degree = 3L, knots = c(`33.33333%` = 2.4212, `66.66667%` = 4.38856666666667:\n",
      "\"some 'x' values beyond boundary knots may cause ill-conditioned bases\"Warning message in bs(dis, degree = 3L, knots = c(`25%` = 2.1105, `50%` = 3.2721, :\n",
      "\"some 'x' values beyond boundary knots may cause ill-conditioned bases\"Warning message in bs(dis, degree = 3L, knots = c(`25%` = 2.1105, `50%` = 3.2721, :\n",
      "\"some 'x' values beyond boundary knots may cause ill-conditioned bases\"Warning message in bs(dis, degree = 3L, knots = c(`25%` = 2.1, `50%` = 3.1323, `75%` = 5.118:\n",
      "\"some 'x' values beyond boundary knots may cause ill-conditioned bases\"Warning message in bs(dis, degree = 3L, knots = c(`25%` = 2.1, `50%` = 3.1323, `75%` = 5.118:\n",
      "\"some 'x' values beyond boundary knots may cause ill-conditioned bases\"Warning message in bs(dis, degree = 3L, knots = c(`20%` = 1.92938, `40%` = 2.55946, :\n",
      "\"some 'x' values beyond boundary knots may cause ill-conditioned bases\"Warning message in bs(dis, degree = 3L, knots = c(`20%` = 1.92938, `40%` = 2.55946, :\n",
      "\"some 'x' values beyond boundary knots may cause ill-conditioned bases\"Warning message in bs(dis, degree = 3L, knots = c(`20%` = 1.93736, `40%` = 2.59666, :\n",
      "\"some 'x' values beyond boundary knots may cause ill-conditioned bases\"Warning message in bs(dis, degree = 3L, knots = c(`20%` = 1.93736, `40%` = 2.59666, :\n",
      "\"some 'x' values beyond boundary knots may cause ill-conditioned bases\"Warning message in bs(dis, degree = 3L, knots = c(`16.66667%` = 1.86156666666667, :\n",
      "\"some 'x' values beyond boundary knots may cause ill-conditioned bases\"Warning message in bs(dis, degree = 3L, knots = c(`16.66667%` = 1.86156666666667, :\n",
      "\"some 'x' values beyond boundary knots may cause ill-conditioned bases\"Warning message in bs(dis, degree = 3L, knots = c(`14.28571%` = 1.79777142857143, :\n",
      "\"some 'x' values beyond boundary knots may cause ill-conditioned bases\"Warning message in bs(dis, degree = 3L, knots = c(`14.28571%` = 1.79777142857143, :\n",
      "\"some 'x' values beyond boundary knots may cause ill-conditioned bases\"Warning message in bs(dis, degree = 3L, knots = c(`14.28571%` = 1.7936, `28.57143%` = 2.16771428571429, :\n",
      "\"some 'x' values beyond boundary knots may cause ill-conditioned bases\"Warning message in bs(dis, degree = 3L, knots = c(`14.28571%` = 1.7936, `28.57143%` = 2.16771428571429, :\n",
      "\"some 'x' values beyond boundary knots may cause ill-conditioned bases\"Warning message in bs(dis, degree = 3L, knots = c(`12.5%` = 1.734325, `25%` = 2.0941, :\n",
      "\"some 'x' values beyond boundary knots may cause ill-conditioned bases\"Warning message in bs(dis, degree = 3L, knots = c(`12.5%` = 1.734325, `25%` = 2.0941, :\n",
      "\"some 'x' values beyond boundary knots may cause ill-conditioned bases\"Warning message in bs(dis, degree = 3L, knots = c(`12.5%` = 1.751575, `25%` = 2.1084, :\n",
      "\"some 'x' values beyond boundary knots may cause ill-conditioned bases\"Warning message in bs(dis, degree = 3L, knots = c(`12.5%` = 1.751575, `25%` = 2.1084, :\n",
      "\"some 'x' values beyond boundary knots may cause ill-conditioned bases\"Warning message in bs(dis, degree = 3L, knots = c(`11.11111%` = 1.71552222222222, :\n",
      "\"some 'x' values beyond boundary knots may cause ill-conditioned bases\"Warning message in bs(dis, degree = 3L, knots = c(`11.11111%` = 1.71552222222222, :\n",
      "\"some 'x' values beyond boundary knots may cause ill-conditioned bases\"Warning message in bs(dis, degree = 3L, knots = c(`11.11111%` = 1.66286666666667, :\n",
      "\"some 'x' values beyond boundary knots may cause ill-conditioned bases\"Warning message in bs(dis, degree = 3L, knots = c(`11.11111%` = 1.66286666666667, :\n",
      "\"some 'x' values beyond boundary knots may cause ill-conditioned bases\"Warning message in bs(dis, degree = 3L, knots = c(`10%` = 1.62008, `20%` = 1.92938, :\n",
      "\"some 'x' values beyond boundary knots may cause ill-conditioned bases\"Warning message in bs(dis, degree = 3L, knots = c(`10%` = 1.62008, `20%` = 1.92938, :\n",
      "\"some 'x' values beyond boundary knots may cause ill-conditioned bases\"Warning message in bs(dis, degree = 3L, knots = c(`10%` = 1.6283, `20%` = 1.9512, :\n",
      "\"some 'x' values beyond boundary knots may cause ill-conditioned bases\"Warning message in bs(dis, degree = 3L, knots = c(`10%` = 1.6283, `20%` = 1.9512, :\n",
      "\"some 'x' values beyond boundary knots may cause ill-conditioned bases\"Warning message in bs(dis, degree = 3L, knots = c(`9.090909%` = 1.61225454545455, :\n",
      "\"some 'x' values beyond boundary knots may cause ill-conditioned bases\"Warning message in bs(dis, degree = 3L, knots = c(`9.090909%` = 1.61225454545455, :\n",
      "\"some 'x' values beyond boundary knots may cause ill-conditioned bases\"Warning message in bs(dis, degree = 3L, knots = c(`9.090909%` = 1.61066363636364, :\n",
      "\"some 'x' values beyond boundary knots may cause ill-conditioned bases\"Warning message in bs(dis, degree = 3L, knots = c(`9.090909%` = 1.61066363636364, :\n",
      "\"some 'x' values beyond boundary knots may cause ill-conditioned bases\"Warning message in bs(dis, degree = 3L, knots = c(`8.333333%` = 1.60476666666667, :\n",
      "\"some 'x' values beyond boundary knots may cause ill-conditioned bases\"Warning message in bs(dis, degree = 3L, knots = c(`8.333333%` = 1.60476666666667, :\n",
      "\"some 'x' values beyond boundary knots may cause ill-conditioned bases\"Warning message in bs(dis, degree = 3L, knots = c(`8.333333%` = 1.5881, `16.66667%` = 1.82231666666667, :\n",
      "\"some 'x' values beyond boundary knots may cause ill-conditioned bases\"Warning message in bs(dis, degree = 3L, knots = c(`8.333333%` = 1.5881, `16.66667%` = 1.82231666666667, :\n",
      "\"some 'x' values beyond boundary knots may cause ill-conditioned bases\"Warning message in bs(dis, degree = 3L, knots = c(`7.692308%` = 1.58949230769231, :\n",
      "\"some 'x' values beyond boundary knots may cause ill-conditioned bases\"Warning message in bs(dis, degree = 3L, knots = c(`7.692308%` = 1.58949230769231, :\n",
      "\"some 'x' values beyond boundary knots may cause ill-conditioned bases\"Warning message in bs(dis, degree = 3L, knots = c(`7.692308%` = 1.5741, `15.38462%` = 1.8209, :\n",
      "\"some 'x' values beyond boundary knots may cause ill-conditioned bases\"Warning message in bs(dis, degree = 3L, knots = c(`7.692308%` = 1.5741, `15.38462%` = 1.8209, :\n",
      "\"some 'x' values beyond boundary knots may cause ill-conditioned bases\"Warning message in bs(dis, degree = 3L, knots = c(`7.142857%` = 1.54201428571429, :\n",
      "\"some 'x' values beyond boundary knots may cause ill-conditioned bases\"Warning message in bs(dis, degree = 3L, knots = c(`7.142857%` = 1.54201428571429, :\n"
     ]
    },
    {
     "name": "stderr",
     "output_type": "stream",
     "text": [
      "\"some 'x' values beyond boundary knots may cause ill-conditioned bases\"Warning message in bs(dis, degree = 3L, knots = c(`7.142857%` = 1.5768, `14.28571%` = 1.81652857142857, :\n",
      "\"some 'x' values beyond boundary knots may cause ill-conditioned bases\"Warning message in bs(dis, degree = 3L, knots = c(`7.142857%` = 1.5768, `14.28571%` = 1.81652857142857, :\n",
      "\"some 'x' values beyond boundary knots may cause ill-conditioned bases\""
     ]
    }
   ],
   "source": [
    "cv <- rep(NA, 16)\n",
    "for (i in 3:16) {\n",
    "    fit <- glm(nox ~ bs(dis, df = i), data = Boston)\n",
    "    cv[i] <- cv.glm(Boston, fit, K = 10)$delta[1]\n",
    "}"
   ]
  },
  {
   "cell_type": "code",
   "execution_count": 108,
   "id": "e40405a4",
   "metadata": {},
   "outputs": [
    {
     "data": {
      "image/png": "[encoded data removed]",
      "text/plain": [
       "plot without title"
      ]
     },
     "metadata": {},
     "output_type": "display_data"
    }
   ],
   "source": [
    "plot(3:16, cv[-c(1, 2)], xlab = \"Degrees of freedom\", ylab = \"Test MSE\", type = \"l\")"
   ]
  },
  {
   "cell_type": "code",
   "execution_count": 109,
   "id": "4f387c28",
   "metadata": {},
   "outputs": [],
   "source": [
    "# 10\n",
    "# a"
   ]
  },
  {
   "cell_type": "code",
   "execution_count": 111,
   "id": "864293e1",
   "metadata": {},
   "outputs": [
    {
     "name": "stdout",
     "output_type": "stream",
     "text": [
      "package 'leaps' successfully unpacked and MD5 sums checked\n",
      "\n",
      "The downloaded binary packages are in\n",
      "\tC:\\Users\\ffan1\\AppData\\Local\\Temp\\RtmpIhiHz9\\downloaded_packages\n"
     ]
    }
   ],
   "source": [
    "install.packages(\"leaps\")"
   ]
  },
  {
   "cell_type": "code",
   "execution_count": 131,
   "id": "51e3b278",
   "metadata": {},
   "outputs": [],
   "source": [
    "library(leaps)\n",
    "set.seed(1)"
   ]
  },
  {
   "cell_type": "code",
   "execution_count": 132,
   "id": "fe006fa1",
   "metadata": {},
   "outputs": [
    {
     "name": "stderr",
     "output_type": "stream",
     "text": [
      "The following objects are masked from College (pos = 4):\n",
      "\n",
      "    Accept, Apps, Books, Enroll, Expend, F.Undergrad, Grad.Rate,\n",
      "    Outstate, P.Undergrad, perc.alumni, Personal, PhD, Private,\n",
      "    Room.Board, S.F.Ratio, Terminal, Top10perc, Top25perc\n",
      "\n"
     ]
    }
   ],
   "source": [
    "attach(College)"
   ]
  },
  {
   "cell_type": "code",
   "execution_count": 134,
   "id": "fa167472",
   "metadata": {},
   "outputs": [],
   "source": [
    "train <- sample(length(Outstate), length(Outstate) / 2)\n",
    "test <- -train\n",
    "College.train <- College[train, ]\n",
    "College.test <- College[test, ]"
   ]
  },
  {
   "cell_type": "code",
   "execution_count": 136,
   "id": "77564bd0",
   "metadata": {},
   "outputs": [
    {
     "data": {
      "image/png": "[encoded data removed]",
      "text/plain": [
       "plot without title"
      ]
     },
     "metadata": {},
     "output_type": "display_data"
    }
   ],
   "source": [
    "fit <- regsubsets(Outstate ~ ., data = College.train, nvmax = 17, method = \"forward\")\n",
    "fit.summary <- summary(fit)\n",
    "par(mfrow = c(1, 3))\n",
    "plot(fit.summary$cp, xlab = \"Number of variables\", ylab = \"Cp\", type = \"l\")\n",
    "min.cp <- min(fit.summary$cp)\n",
    "std.cp <- sd(fit.summary$cp)\n",
    "abline(h = min.cp + 0.2 * std.cp, col = \"blue\", lty = 2)\n",
    "abline(h = min.cp - 0.2 * std.cp, col = \"blue\", lty = 2)\n",
    "plot(fit.summary$bic, xlab = \"Number of variables\", ylab = \"BIC\", type='l')\n",
    "min.bic <- min(fit.summary$bic)\n",
    "std.bic <- sd(fit.summary$bic)\n",
    "abline(h = min.bic + 0.2 * std.bic, col = \"blue\", lty = 2)\n",
    "abline(h = min.bic - 0.2 * std.bic, col = \"blue\", lty = 2)\n",
    "plot(fit.summary$adjr2, xlab = \"Number of variables\", ylab = \"Adjusted R2\", type = \"l\", ylim = c(0.4, 0.84))\n",
    "max.adjr2 <- max(fit.summary$adjr2)\n",
    "std.adjr2 <- sd(fit.summary$adjr2)\n",
    "abline(h = max.adjr2 + 0.2 * std.adjr2, col = \"blue\", lty = 2)\n",
    "abline(h = max.adjr2 - 0.2 * std.adjr2, col = \"blue\", lty = 2)"
   ]
  },
  {
   "cell_type": "code",
   "execution_count": 137,
   "id": "1d3883c4",
   "metadata": {},
   "outputs": [
    {
     "data": {
      "text/html": [
       "<ol class=list-inline>\n",
       "\t<li>'(Intercept)'</li>\n",
       "\t<li>'PrivateYes'</li>\n",
       "\t<li>'Room.Board'</li>\n",
       "\t<li>'PhD'</li>\n",
       "\t<li>'perc.alumni'</li>\n",
       "\t<li>'Expend'</li>\n",
       "\t<li>'Grad.Rate'</li>\n",
       "</ol>\n"
      ],
      "text/latex": [
       "\\begin{enumerate*}\n",
       "\\item '(Intercept)'\n",
       "\\item 'PrivateYes'\n",
       "\\item 'Room.Board'\n",
       "\\item 'PhD'\n",
       "\\item 'perc.alumni'\n",
       "\\item 'Expend'\n",
       "\\item 'Grad.Rate'\n",
       "\\end{enumerate*}\n"
      ],
      "text/markdown": [
       "1. '(Intercept)'\n",
       "2. 'PrivateYes'\n",
       "3. 'Room.Board'\n",
       "4. 'PhD'\n",
       "5. 'perc.alumni'\n",
       "6. 'Expend'\n",
       "7. 'Grad.Rate'\n",
       "\n",
       "\n"
      ],
      "text/plain": [
       "[1] \"(Intercept)\" \"PrivateYes\"  \"Room.Board\"  \"PhD\"         \"perc.alumni\"\n",
       "[6] \"Expend\"      \"Grad.Rate\"  "
      ]
     },
     "metadata": {},
     "output_type": "display_data"
    }
   ],
   "source": [
    "fit <- regsubsets(Outstate ~ ., data = College, method = \"forward\")\n",
    "coeff <- coef(fit, id = 6)\n",
    "names(coeff)"
   ]
  },
  {
   "cell_type": "code",
   "execution_count": 114,
   "id": "1d5acf21",
   "metadata": {},
   "outputs": [],
   "source": [
    "# b"
   ]
  },
  {
   "cell_type": "code",
   "execution_count": 118,
   "id": "56208dc8",
   "metadata": {},
   "outputs": [
    {
     "name": "stdout",
     "output_type": "stream",
     "text": [
      "\n",
      "  There is a binary version available but the source version is later:\n",
      "    binary source needs_compilation\n",
      "gam 1.16.1   1.20              TRUE\n",
      "\n",
      "  Binaries will be installed\n",
      "package 'gam' successfully unpacked and MD5 sums checked\n",
      "\n",
      "The downloaded binary packages are in\n",
      "\tC:\\Users\\ffan1\\AppData\\Local\\Temp\\RtmpIhiHz9\\downloaded_packages\n"
     ]
    }
   ],
   "source": [
    "install.packages(\"gam\")"
   ]
  },
  {
   "cell_type": "code",
   "execution_count": 119,
   "id": "1ce3f56d",
   "metadata": {},
   "outputs": [
    {
     "name": "stderr",
     "output_type": "stream",
     "text": [
      "Warning message:\n",
      "\"package 'gam' was built under R version 3.6.3\"Loaded gam 1.16.1\n",
      "\n"
     ]
    }
   ],
   "source": [
    "library(gam)"
   ]
  },
  {
   "cell_type": "code",
   "execution_count": 138,
   "id": "1d796cc2",
   "metadata": {},
   "outputs": [
    {
     "name": "stderr",
     "output_type": "stream",
     "text": [
      "Warning message in model.matrix.default(mt, mf, contrasts):\n",
      "\"non-list contrasts argument ignored\""
     ]
    },
    {
     "data": {
      "image/png": "[encoded data removed]",
      "text/plain": [
       "plot without title"
      ]
     },
     "metadata": {},
     "output_type": "display_data"
    }
   ],
   "source": [
    "gamfit <- gam(Outstate ~ Private + s(Room.Board, df = 2) + s(PhD, df = 2) + s(perc.alumni, df = 2) + s(Expend, df = 5) + s(Grad.Rate, df = 2), data=College.train)\n",
    "par(mfrow = c(2, 3))\n",
    "plot(gamfit, se = T, col = \"red\")"
   ]
  },
  {
   "cell_type": "code",
   "execution_count": 121,
   "id": "882388a2",
   "metadata": {},
   "outputs": [],
   "source": [
    "# c"
   ]
  },
  {
   "cell_type": "code",
   "execution_count": 140,
   "id": "da93db5e",
   "metadata": {},
   "outputs": [
    {
     "data": {
      "text/html": [
       "3362163.60910033"
      ],
      "text/latex": [
       "3362163.60910033"
      ],
      "text/markdown": [
       "3362163.60910033"
      ],
      "text/plain": [
       "[1] 3362164"
      ]
     },
     "metadata": {},
     "output_type": "display_data"
    }
   ],
   "source": [
    "preds <- predict(gamfit, College.test)\n",
    "error <- mean((College.test$Outstate - preds)^2)\n",
    "error"
   ]
  },
  {
   "cell_type": "code",
   "execution_count": 141,
   "id": "deacdb6a",
   "metadata": {},
   "outputs": [
    {
     "data": {
      "text/html": [
       "0.791473952442045"
      ],
      "text/latex": [
       "0.791473952442045"
      ],
      "text/markdown": [
       "0.791473952442045"
      ],
      "text/plain": [
       "[1] 0.791474"
      ]
     },
     "metadata": {},
     "output_type": "display_data"
    }
   ],
   "source": [
    "tss <- mean((College.test$Outstate - mean(College.test$Outstate))^2)\n",
    "rss <- 1 - err / tss\n",
    "rss"
   ]
  },
  {
   "cell_type": "code",
   "execution_count": 124,
   "id": "37212d18",
   "metadata": {},
   "outputs": [],
   "source": [
    "# d"
   ]
  },
  {
   "cell_type": "code",
   "execution_count": 142,
   "id": "10fe85d2",
   "metadata": {},
   "outputs": [
    {
     "data": {
      "text/plain": [
       "Subset selection object\n",
       "Call: regsubsets.formula(Outstate ~ ., data = College, method = \"forward\")\n",
       "17 Variables  (and intercept)\n",
       "            Forced in Forced out\n",
       "PrivateYes      FALSE      FALSE\n",
       "Apps            FALSE      FALSE\n",
       "Accept          FALSE      FALSE\n",
       "Enroll          FALSE      FALSE\n",
       "Top10perc       FALSE      FALSE\n",
       "Top25perc       FALSE      FALSE\n",
       "F.Undergrad     FALSE      FALSE\n",
       "P.Undergrad     FALSE      FALSE\n",
       "Room.Board      FALSE      FALSE\n",
       "Books           FALSE      FALSE\n",
       "Personal        FALSE      FALSE\n",
       "PhD             FALSE      FALSE\n",
       "Terminal        FALSE      FALSE\n",
       "S.F.Ratio       FALSE      FALSE\n",
       "perc.alumni     FALSE      FALSE\n",
       "Expend          FALSE      FALSE\n",
       "Grad.Rate       FALSE      FALSE\n",
       "1 subsets of each size up to 8\n",
       "Selection Algorithm: forward\n",
       "         PrivateYes Apps Accept Enroll Top10perc Top25perc F.Undergrad\n",
       "1  ( 1 ) \" \"        \" \"  \" \"    \" \"    \" \"       \" \"       \" \"        \n",
       "2  ( 1 ) \"*\"        \" \"  \" \"    \" \"    \" \"       \" \"       \" \"        \n",
       "3  ( 1 ) \"*\"        \" \"  \" \"    \" \"    \" \"       \" \"       \" \"        \n",
       "4  ( 1 ) \"*\"        \" \"  \" \"    \" \"    \" \"       \" \"       \" \"        \n",
       "5  ( 1 ) \"*\"        \" \"  \" \"    \" \"    \" \"       \" \"       \" \"        \n",
       "6  ( 1 ) \"*\"        \" \"  \" \"    \" \"    \" \"       \" \"       \" \"        \n",
       "7  ( 1 ) \"*\"        \" \"  \" \"    \" \"    \" \"       \" \"       \" \"        \n",
       "8  ( 1 ) \"*\"        \" \"  \" \"    \" \"    \" \"       \" \"       \" \"        \n",
       "         P.Undergrad Room.Board Books Personal PhD Terminal S.F.Ratio\n",
       "1  ( 1 ) \" \"         \" \"        \" \"   \" \"      \" \" \" \"      \" \"      \n",
       "2  ( 1 ) \" \"         \" \"        \" \"   \" \"      \" \" \" \"      \" \"      \n",
       "3  ( 1 ) \" \"         \"*\"        \" \"   \" \"      \" \" \" \"      \" \"      \n",
       "4  ( 1 ) \" \"         \"*\"        \" \"   \" \"      \" \" \" \"      \" \"      \n",
       "5  ( 1 ) \" \"         \"*\"        \" \"   \" \"      \"*\" \" \"      \" \"      \n",
       "6  ( 1 ) \" \"         \"*\"        \" \"   \" \"      \"*\" \" \"      \" \"      \n",
       "7  ( 1 ) \" \"         \"*\"        \" \"   \"*\"      \"*\" \" \"      \" \"      \n",
       "8  ( 1 ) \" \"         \"*\"        \" \"   \"*\"      \"*\" \"*\"      \" \"      \n",
       "         perc.alumni Expend Grad.Rate\n",
       "1  ( 1 ) \" \"         \"*\"    \" \"      \n",
       "2  ( 1 ) \" \"         \"*\"    \" \"      \n",
       "3  ( 1 ) \" \"         \"*\"    \" \"      \n",
       "4  ( 1 ) \"*\"         \"*\"    \" \"      \n",
       "5  ( 1 ) \"*\"         \"*\"    \" \"      \n",
       "6  ( 1 ) \"*\"         \"*\"    \"*\"      \n",
       "7  ( 1 ) \"*\"         \"*\"    \"*\"      \n",
       "8  ( 1 ) \"*\"         \"*\"    \"*\"      "
      ]
     },
     "metadata": {},
     "output_type": "display_data"
    }
   ],
   "source": [
    "summary(fit)"
   ]
  },
  {
   "cell_type": "code",
   "execution_count": null,
   "id": "8125bc41",
   "metadata": {},
   "outputs": [],
   "source": []
  }
 ],
 "metadata": {
  "kernelspec": {
   "display_name": "R",
   "language": "R",
   "name": "ir"
  },
  "language_info": {
   "codemirror_mode": "r",
   "file_extension": ".r",
   "mimetype": "text/x-r-source",
   "name": "R",
   "pygments_lexer": "r",
   "version": "3.6.1"
  }
 },
 "nbformat": 4,
 "nbformat_minor": 5
}
